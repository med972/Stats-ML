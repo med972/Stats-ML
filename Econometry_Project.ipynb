{
 "cells": [
  {
   "cell_type": "markdown",
   "metadata": {},
   "source": [
    "# SES 722: Econometry\n",
    "## TP d'économétrie de *Mehdi Regina* et *Xavier Charef*"
   ]
  },
  {
   "cell_type": "code",
   "execution_count": 7,
   "metadata": {},
   "outputs": [],
   "source": [
    "import warnings\n",
    "warnings.filterwarnings('ignore')\n",
    "\n",
    "import pandas as pd\n",
    "import matplotlib.pyplot as plt\n",
    "import numpy as np\n",
    "import seaborn as sns\n",
    "import scipy as sp\n",
    "import statsmodels as st\n",
    "%matplotlib inline\n",
    "\n",
    "from sklearn import linear_model\n",
    "from scipy import stats\n",
    "from scipy import special\n",
    "import  statsmodels.formula.api as smfa\n",
    "\n",
    "from statsmodels.tsa.ar_model import AR\n",
    "from statsmodels.graphics.gofplots import qqplot\n",
    "from statsmodels.graphics.tsaplots import plot_acf as plot_acf\n",
    "from statsmodels.graphics.tsaplots import plot_pacf as plot_pacf\n",
    "from statsmodels.tsa.stattools import acf as acf\n",
    "from statsmodels.tsa.stattools import pacf as pacf\n",
    "import statsmodels.tsa.stattools as ts\n",
    "from statsmodels.tsa.stattools  import adfuller as adfuller"
   ]
  },
  {
   "cell_type": "markdown",
   "metadata": {},
   "source": [
    "## Partie 1: Regression "
   ]
  },
  {
   "cell_type": "markdown",
   "metadata": {},
   "source": [
    "### 1- Lire le fichier mroz.txt. Ne sélectionner que les observations pour lesquelles la variable wage est strictement positive."
   ]
  },
  {
   "cell_type": "code",
   "execution_count": 13,
   "metadata": {},
   "outputs": [
    {
     "data": {
      "text/html": [
       "<div>\n",
       "<style>\n",
       "    .dataframe thead tr:only-child th {\n",
       "        text-align: right;\n",
       "    }\n",
       "\n",
       "    .dataframe thead th {\n",
       "        text-align: left;\n",
       "    }\n",
       "\n",
       "    .dataframe tbody tr th {\n",
       "        vertical-align: top;\n",
       "    }\n",
       "</style>\n",
       "<table border=\"1\" class=\"dataframe\">\n",
       "  <thead>\n",
       "    <tr style=\"text-align: right;\">\n",
       "      <th></th>\n",
       "      <th>inlf</th>\n",
       "      <th>hours</th>\n",
       "      <th>kidslt6</th>\n",
       "      <th>kidsge6</th>\n",
       "      <th>age</th>\n",
       "      <th>educ</th>\n",
       "      <th>wage</th>\n",
       "      <th>repwage</th>\n",
       "      <th>hushrs</th>\n",
       "      <th>husage</th>\n",
       "      <th>...</th>\n",
       "      <th>faminc</th>\n",
       "      <th>mtr</th>\n",
       "      <th>motheduc</th>\n",
       "      <th>fatheduc</th>\n",
       "      <th>unem</th>\n",
       "      <th>city</th>\n",
       "      <th>exper</th>\n",
       "      <th>nwifeinc</th>\n",
       "      <th>lwage</th>\n",
       "      <th>expersq</th>\n",
       "    </tr>\n",
       "  </thead>\n",
       "  <tbody>\n",
       "    <tr>\n",
       "      <th>0</th>\n",
       "      <td>1</td>\n",
       "      <td>1610</td>\n",
       "      <td>1</td>\n",
       "      <td>0</td>\n",
       "      <td>32</td>\n",
       "      <td>12</td>\n",
       "      <td>3.3540</td>\n",
       "      <td>2.65</td>\n",
       "      <td>2708</td>\n",
       "      <td>34</td>\n",
       "      <td>...</td>\n",
       "      <td>16310</td>\n",
       "      <td>0.7215</td>\n",
       "      <td>12</td>\n",
       "      <td>7</td>\n",
       "      <td>5.0</td>\n",
       "      <td>0</td>\n",
       "      <td>14</td>\n",
       "      <td>10.910060</td>\n",
       "      <td>1.210154</td>\n",
       "      <td>196</td>\n",
       "    </tr>\n",
       "    <tr>\n",
       "      <th>1</th>\n",
       "      <td>1</td>\n",
       "      <td>1656</td>\n",
       "      <td>0</td>\n",
       "      <td>2</td>\n",
       "      <td>30</td>\n",
       "      <td>12</td>\n",
       "      <td>1.3889</td>\n",
       "      <td>2.65</td>\n",
       "      <td>2310</td>\n",
       "      <td>30</td>\n",
       "      <td>...</td>\n",
       "      <td>21800</td>\n",
       "      <td>0.6615</td>\n",
       "      <td>7</td>\n",
       "      <td>7</td>\n",
       "      <td>11.0</td>\n",
       "      <td>1</td>\n",
       "      <td>5</td>\n",
       "      <td>19.499980</td>\n",
       "      <td>0.328512</td>\n",
       "      <td>25</td>\n",
       "    </tr>\n",
       "    <tr>\n",
       "      <th>2</th>\n",
       "      <td>1</td>\n",
       "      <td>1980</td>\n",
       "      <td>1</td>\n",
       "      <td>3</td>\n",
       "      <td>35</td>\n",
       "      <td>12</td>\n",
       "      <td>4.5455</td>\n",
       "      <td>4.04</td>\n",
       "      <td>3072</td>\n",
       "      <td>40</td>\n",
       "      <td>...</td>\n",
       "      <td>21040</td>\n",
       "      <td>0.6915</td>\n",
       "      <td>12</td>\n",
       "      <td>7</td>\n",
       "      <td>5.0</td>\n",
       "      <td>0</td>\n",
       "      <td>15</td>\n",
       "      <td>12.039910</td>\n",
       "      <td>1.514138</td>\n",
       "      <td>225</td>\n",
       "    </tr>\n",
       "    <tr>\n",
       "      <th>3</th>\n",
       "      <td>1</td>\n",
       "      <td>456</td>\n",
       "      <td>0</td>\n",
       "      <td>3</td>\n",
       "      <td>34</td>\n",
       "      <td>12</td>\n",
       "      <td>1.0965</td>\n",
       "      <td>3.25</td>\n",
       "      <td>1920</td>\n",
       "      <td>53</td>\n",
       "      <td>...</td>\n",
       "      <td>7300</td>\n",
       "      <td>0.7815</td>\n",
       "      <td>7</td>\n",
       "      <td>7</td>\n",
       "      <td>5.0</td>\n",
       "      <td>0</td>\n",
       "      <td>6</td>\n",
       "      <td>6.799996</td>\n",
       "      <td>0.092123</td>\n",
       "      <td>36</td>\n",
       "    </tr>\n",
       "    <tr>\n",
       "      <th>4</th>\n",
       "      <td>1</td>\n",
       "      <td>1568</td>\n",
       "      <td>1</td>\n",
       "      <td>2</td>\n",
       "      <td>31</td>\n",
       "      <td>14</td>\n",
       "      <td>4.5918</td>\n",
       "      <td>3.60</td>\n",
       "      <td>2000</td>\n",
       "      <td>32</td>\n",
       "      <td>...</td>\n",
       "      <td>27300</td>\n",
       "      <td>0.6215</td>\n",
       "      <td>12</td>\n",
       "      <td>14</td>\n",
       "      <td>9.5</td>\n",
       "      <td>1</td>\n",
       "      <td>7</td>\n",
       "      <td>20.100060</td>\n",
       "      <td>1.524272</td>\n",
       "      <td>49</td>\n",
       "    </tr>\n",
       "  </tbody>\n",
       "</table>\n",
       "<p>5 rows × 22 columns</p>\n",
       "</div>"
      ],
      "text/plain": [
       "   inlf  hours  kidslt6  kidsge6  age  educ    wage  repwage  hushrs  husage  \\\n",
       "0     1   1610        1        0   32    12  3.3540     2.65    2708      34   \n",
       "1     1   1656        0        2   30    12  1.3889     2.65    2310      30   \n",
       "2     1   1980        1        3   35    12  4.5455     4.04    3072      40   \n",
       "3     1    456        0        3   34    12  1.0965     3.25    1920      53   \n",
       "4     1   1568        1        2   31    14  4.5918     3.60    2000      32   \n",
       "\n",
       "    ...     faminc     mtr  motheduc  fatheduc  unem  city  exper   nwifeinc  \\\n",
       "0   ...      16310  0.7215        12         7   5.0     0     14  10.910060   \n",
       "1   ...      21800  0.6615         7         7  11.0     1      5  19.499980   \n",
       "2   ...      21040  0.6915        12         7   5.0     0     15  12.039910   \n",
       "3   ...       7300  0.7815         7         7   5.0     0      6   6.799996   \n",
       "4   ...      27300  0.6215        12        14   9.5     1      7  20.100060   \n",
       "\n",
       "      lwage  expersq  \n",
       "0  1.210154      196  \n",
       "1  0.328512       25  \n",
       "2  1.514138      225  \n",
       "3  0.092123       36  \n",
       "4  1.524272       49  \n",
       "\n",
       "[5 rows x 22 columns]"
      ]
     },
     "execution_count": 13,
     "metadata": {},
     "output_type": "execute_result"
    }
   ],
   "source": [
    "header_wage = ['inlf', 'hours', 'kidslt6', 'kidsge6', 'age', 'educ', 'wage', 'repwage',\n",
    "               'hushrs', 'husage', 'huseduc', 'huswage', 'faminc', 'mtr', 'motheduc',\n",
    "               'fatheduc', 'unem', 'city', 'exper', 'nwifeinc', 'lwage', 'expersq']\n",
    "#data_path = '/home/charef/cours/economie_droit/econometry/examen'\n",
    "\n",
    "df_mroz = pd.read_table( \"MROZ_2.raw\",\n",
    "                        sep=\"\\s+\", header=None, names=header_wage)\n",
    "df_mroz.head()"
   ]
  },
  {
   "cell_type": "code",
   "execution_count": 14,
   "metadata": {},
   "outputs": [
    {
     "data": {
      "text/plain": [
       "(428, 22)"
      ]
     },
     "execution_count": 14,
     "metadata": {},
     "output_type": "execute_result"
    }
   ],
   "source": [
    "df_mroz = df_mroz[df_mroz['wage'] > 0]\n",
    "df_mroz.shape"
   ]
  },
  {
   "cell_type": "markdown",
   "metadata": {},
   "source": [
    "### 2- Faire les statistiques descriptives du salaire, de l’age et de l’éducation pour l’ensemble des femmes puis, pour les femmes dont le salaire du mari est supérieure à la médiane de l’échantillon, puis pour les femmes dont le salaire du mari est inférieur à la médiane de l’échantillon"
   ]
  },
  {
   "cell_type": "code",
   "execution_count": 15,
   "metadata": {},
   "outputs": [
    {
     "data": {
      "text/html": [
       "<div>\n",
       "<style>\n",
       "    .dataframe thead tr:only-child th {\n",
       "        text-align: right;\n",
       "    }\n",
       "\n",
       "    .dataframe thead th {\n",
       "        text-align: left;\n",
       "    }\n",
       "\n",
       "    .dataframe tbody tr th {\n",
       "        vertical-align: top;\n",
       "    }\n",
       "</style>\n",
       "<table border=\"1\" class=\"dataframe\">\n",
       "  <thead>\n",
       "    <tr style=\"text-align: right;\">\n",
       "      <th></th>\n",
       "      <th>wage</th>\n",
       "      <th>age</th>\n",
       "      <th>educ</th>\n",
       "    </tr>\n",
       "  </thead>\n",
       "  <tbody>\n",
       "    <tr>\n",
       "      <th>count</th>\n",
       "      <td>428.000000</td>\n",
       "      <td>428.000000</td>\n",
       "      <td>428.000000</td>\n",
       "    </tr>\n",
       "    <tr>\n",
       "      <th>mean</th>\n",
       "      <td>4.177682</td>\n",
       "      <td>41.971963</td>\n",
       "      <td>12.658879</td>\n",
       "    </tr>\n",
       "    <tr>\n",
       "      <th>std</th>\n",
       "      <td>3.310282</td>\n",
       "      <td>7.721084</td>\n",
       "      <td>2.285376</td>\n",
       "    </tr>\n",
       "    <tr>\n",
       "      <th>min</th>\n",
       "      <td>0.128200</td>\n",
       "      <td>30.000000</td>\n",
       "      <td>5.000000</td>\n",
       "    </tr>\n",
       "    <tr>\n",
       "      <th>25%</th>\n",
       "      <td>2.262600</td>\n",
       "      <td>35.000000</td>\n",
       "      <td>12.000000</td>\n",
       "    </tr>\n",
       "    <tr>\n",
       "      <th>50%</th>\n",
       "      <td>3.481900</td>\n",
       "      <td>42.000000</td>\n",
       "      <td>12.000000</td>\n",
       "    </tr>\n",
       "    <tr>\n",
       "      <th>75%</th>\n",
       "      <td>4.970750</td>\n",
       "      <td>47.250000</td>\n",
       "      <td>14.000000</td>\n",
       "    </tr>\n",
       "    <tr>\n",
       "      <th>max</th>\n",
       "      <td>25.000000</td>\n",
       "      <td>60.000000</td>\n",
       "      <td>17.000000</td>\n",
       "    </tr>\n",
       "  </tbody>\n",
       "</table>\n",
       "</div>"
      ],
      "text/plain": [
       "             wage         age        educ\n",
       "count  428.000000  428.000000  428.000000\n",
       "mean     4.177682   41.971963   12.658879\n",
       "std      3.310282    7.721084    2.285376\n",
       "min      0.128200   30.000000    5.000000\n",
       "25%      2.262600   35.000000   12.000000\n",
       "50%      3.481900   42.000000   12.000000\n",
       "75%      4.970750   47.250000   14.000000\n",
       "max     25.000000   60.000000   17.000000"
      ]
     },
     "execution_count": 15,
     "metadata": {},
     "output_type": "execute_result"
    }
   ],
   "source": [
    "df_reduit = df_mroz[['wage', 'age', 'educ']]\n",
    "df_reduit.describe()"
   ]
  },
  {
   "cell_type": "code",
   "execution_count": 16,
   "metadata": {},
   "outputs": [
    {
     "data": {
      "text/html": [
       "<div>\n",
       "<style>\n",
       "    .dataframe thead tr:only-child th {\n",
       "        text-align: right;\n",
       "    }\n",
       "\n",
       "    .dataframe thead th {\n",
       "        text-align: left;\n",
       "    }\n",
       "\n",
       "    .dataframe tbody tr th {\n",
       "        vertical-align: top;\n",
       "    }\n",
       "</style>\n",
       "<table border=\"1\" class=\"dataframe\">\n",
       "  <thead>\n",
       "    <tr style=\"text-align: right;\">\n",
       "      <th></th>\n",
       "      <th>wage</th>\n",
       "      <th>age</th>\n",
       "      <th>educ</th>\n",
       "    </tr>\n",
       "  </thead>\n",
       "  <tbody>\n",
       "    <tr>\n",
       "      <th>count</th>\n",
       "      <td>214.000000</td>\n",
       "      <td>214.000000</td>\n",
       "      <td>214.000000</td>\n",
       "    </tr>\n",
       "    <tr>\n",
       "      <th>mean</th>\n",
       "      <td>4.896822</td>\n",
       "      <td>42.275701</td>\n",
       "      <td>13.242991</td>\n",
       "    </tr>\n",
       "    <tr>\n",
       "      <th>std</th>\n",
       "      <td>4.041606</td>\n",
       "      <td>7.388843</td>\n",
       "      <td>2.359045</td>\n",
       "    </tr>\n",
       "    <tr>\n",
       "      <th>min</th>\n",
       "      <td>0.161600</td>\n",
       "      <td>30.000000</td>\n",
       "      <td>5.000000</td>\n",
       "    </tr>\n",
       "    <tr>\n",
       "      <th>25%</th>\n",
       "      <td>2.513850</td>\n",
       "      <td>36.000000</td>\n",
       "      <td>12.000000</td>\n",
       "    </tr>\n",
       "    <tr>\n",
       "      <th>50%</th>\n",
       "      <td>3.846400</td>\n",
       "      <td>43.000000</td>\n",
       "      <td>12.000000</td>\n",
       "    </tr>\n",
       "    <tr>\n",
       "      <th>75%</th>\n",
       "      <td>5.854125</td>\n",
       "      <td>48.000000</td>\n",
       "      <td>16.000000</td>\n",
       "    </tr>\n",
       "    <tr>\n",
       "      <th>max</th>\n",
       "      <td>25.000000</td>\n",
       "      <td>59.000000</td>\n",
       "      <td>17.000000</td>\n",
       "    </tr>\n",
       "  </tbody>\n",
       "</table>\n",
       "</div>"
      ],
      "text/plain": [
       "             wage         age        educ\n",
       "count  214.000000  214.000000  214.000000\n",
       "mean     4.896822   42.275701   13.242991\n",
       "std      4.041606    7.388843    2.359045\n",
       "min      0.161600   30.000000    5.000000\n",
       "25%      2.513850   36.000000   12.000000\n",
       "50%      3.846400   43.000000   12.000000\n",
       "75%      5.854125   48.000000   16.000000\n",
       "max     25.000000   59.000000   17.000000"
      ]
     },
     "execution_count": 16,
     "metadata": {},
     "output_type": "execute_result"
    }
   ],
   "source": [
    "sup_husb_wage = df_mroz['huswage'] > np.median(df_mroz['huswage'])\n",
    "df_reduit_sup_husb_wage = df_reduit[sup_husb_wage]\n",
    "df_reduit_sup_husb_wage.describe()"
   ]
  },
  {
   "cell_type": "code",
   "execution_count": 17,
   "metadata": {},
   "outputs": [
    {
     "data": {
      "text/html": [
       "<div>\n",
       "<style>\n",
       "    .dataframe thead tr:only-child th {\n",
       "        text-align: right;\n",
       "    }\n",
       "\n",
       "    .dataframe thead th {\n",
       "        text-align: left;\n",
       "    }\n",
       "\n",
       "    .dataframe tbody tr th {\n",
       "        vertical-align: top;\n",
       "    }\n",
       "</style>\n",
       "<table border=\"1\" class=\"dataframe\">\n",
       "  <thead>\n",
       "    <tr style=\"text-align: right;\">\n",
       "      <th></th>\n",
       "      <th>wage</th>\n",
       "      <th>age</th>\n",
       "      <th>educ</th>\n",
       "    </tr>\n",
       "  </thead>\n",
       "  <tbody>\n",
       "    <tr>\n",
       "      <th>count</th>\n",
       "      <td>214.000000</td>\n",
       "      <td>214.000000</td>\n",
       "      <td>214.000000</td>\n",
       "    </tr>\n",
       "    <tr>\n",
       "      <th>mean</th>\n",
       "      <td>3.458541</td>\n",
       "      <td>41.668224</td>\n",
       "      <td>12.074766</td>\n",
       "    </tr>\n",
       "    <tr>\n",
       "      <th>std</th>\n",
       "      <td>2.143274</td>\n",
       "      <td>8.045482</td>\n",
       "      <td>2.054200</td>\n",
       "    </tr>\n",
       "    <tr>\n",
       "      <th>min</th>\n",
       "      <td>0.128200</td>\n",
       "      <td>30.000000</td>\n",
       "      <td>6.000000</td>\n",
       "    </tr>\n",
       "    <tr>\n",
       "      <th>25%</th>\n",
       "      <td>2.117275</td>\n",
       "      <td>35.000000</td>\n",
       "      <td>12.000000</td>\n",
       "    </tr>\n",
       "    <tr>\n",
       "      <th>50%</th>\n",
       "      <td>2.971800</td>\n",
       "      <td>41.000000</td>\n",
       "      <td>12.000000</td>\n",
       "    </tr>\n",
       "    <tr>\n",
       "      <th>75%</th>\n",
       "      <td>4.393800</td>\n",
       "      <td>47.000000</td>\n",
       "      <td>12.000000</td>\n",
       "    </tr>\n",
       "    <tr>\n",
       "      <th>max</th>\n",
       "      <td>18.267000</td>\n",
       "      <td>60.000000</td>\n",
       "      <td>17.000000</td>\n",
       "    </tr>\n",
       "  </tbody>\n",
       "</table>\n",
       "</div>"
      ],
      "text/plain": [
       "             wage         age        educ\n",
       "count  214.000000  214.000000  214.000000\n",
       "mean     3.458541   41.668224   12.074766\n",
       "std      2.143274    8.045482    2.054200\n",
       "min      0.128200   30.000000    6.000000\n",
       "25%      2.117275   35.000000   12.000000\n",
       "50%      2.971800   41.000000   12.000000\n",
       "75%      4.393800   47.000000   12.000000\n",
       "max     18.267000   60.000000   17.000000"
      ]
     },
     "execution_count": 17,
     "metadata": {},
     "output_type": "execute_result"
    }
   ],
   "source": [
    "inf_husb_wage = df_mroz['huswage'] <= np.median(df_mroz['huswage'])\n",
    "df_reduit_inf_husb_wage = df_reduit[inf_husb_wage]\n",
    "df_reduit_inf_husb_wage.describe()"
   ]
  },
  {
   "cell_type": "markdown",
   "metadata": {},
   "source": [
    "### 3- Faire l'histogramme de la variable wage. Calculer le log de wage et faire l'histogramme. Comparez les deux histogrammes et commentez"
   ]
  },
  {
   "cell_type": "code",
   "execution_count": 18,
   "metadata": {},
   "outputs": [
    {
     "data": {
      "text/plain": [
       "<matplotlib.legend.Legend at 0x106845ba8>"
      ]
     },
     "execution_count": 18,
     "metadata": {},
     "output_type": "execute_result"
    },
    {
     "data": {
      "image/png": "[encoded data removed]",
      "text/plain": [
       "<matplotlib.figure.Figure at 0x112a84668>"
      ]
     },
     "metadata": {},
     "output_type": "display_data"
    }
   ],
   "source": [
    "plt.hist(df_mroz['wage'], label='wage_lin')\n",
    "plt.title('wage linéaire')\n",
    "plt.xlabel('wage')\n",
    "plt.ylabel('frequence')\n",
    "plt.legend(loc='upper right')"
   ]
  },
  {
   "cell_type": "code",
   "execution_count": 19,
   "metadata": {},
   "outputs": [
    {
     "data": {
      "text/plain": [
       "<matplotlib.legend.Legend at 0x112ab39b0>"
      ]
     },
     "execution_count": 19,
     "metadata": {},
     "output_type": "execute_result"
    },
    {
     "data": {
      "image/png": "[encoded data removed]",
      "text/plain": [
       "<matplotlib.figure.Figure at 0x112ab3dd8>"
      ]
     },
     "metadata": {},
     "output_type": "display_data"
    }
   ],
   "source": [
    "plt.hist(np.log(df_mroz['wage']), label='wage_log')\n",
    "plt.title('logarithme de wage')\n",
    "plt.xlabel('wage_log')\n",
    "plt.ylabel('frequence')\n",
    "plt.legend(loc='upper right')"
   ]
  },
  {
   "cell_type": "markdown",
   "metadata": {},
   "source": [
    "On voit que la distribution du logarithme des salaires est moins biaisée. Il est donc préférable de choisir cette distribution logarithmique pour les tests statistiques qui suivent. Ces tests supposent une distribution gaussienne des résidus."
   ]
  },
  {
   "cell_type": "markdown",
   "metadata": {},
   "source": [
    "### 4- Calculer les corrélations motheduc et fatheduc. Commentez. Il y a-t-il un problème de multicollinéarité si l'on utilise ces variables comme variables explicatives ?"
   ]
  },
  {
   "cell_type": "code",
   "execution_count": 20,
   "metadata": {},
   "outputs": [
    {
     "name": "stdout",
     "output_type": "stream",
     "text": [
      "[[1.         0.55406322]\n",
      " [0.55406322 1.        ]]\n"
     ]
    }
   ],
   "source": [
    "array_mother_father = np.array(df_mroz[['motheduc', 'fatheduc']])\n",
    "corr = np.corrcoef(array_mother_father.T)\n",
    "print(corr)"
   ]
  },
  {
   "cell_type": "markdown",
   "metadata": {},
   "source": [
    "La corrélation des 2 variables motheduc et fatheduc est de 0.55406322. Ces variables ne sont donc pas corrélées et on peut donc les utilisées comme variables explicatives sans craindre de problème de multicolinéarité entre motheduc et fatheduc."
   ]
  },
  {
   "cell_type": "markdown",
   "metadata": {},
   "source": [
    "### 5- Faites un graphique en nuage de point entre wage et educ, wage et exper, wage et fatheduc. Commentez. S'agit-il d'un effet \"toute chose étant égale par ailleurs\" ?"
   ]
  },
  {
   "cell_type": "code",
   "execution_count": 21,
   "metadata": {},
   "outputs": [
    {
     "name": "stdout",
     "output_type": "stream",
     "text": [
      "(428, 2)\n",
      "0.11693283505408893\n",
      "(428, 2)\n",
      "0.003024064672894571\n",
      "(428, 2)\n",
      "0.011607098663784525\n"
     ]
    }
   ],
   "source": [
    "# Regression de wage en fonction de educ\n",
    "array_educ = np.array(df_mroz['educ']).reshape(-1, 1)\n",
    "y_wage = np.array(df_mroz['wage']).reshape(-1, 1)\n",
    "n_wage_educ, k_wage_educ = array_educ.shape\n",
    "X_educ = np.hstack((np.ones((n_wage_educ, 1)), array_educ))\n",
    "print(X_educ.shape)\n",
    "n_wage_educ, k_wage_educ = X_educ.shape\n",
    "gram_X_educ = np.dot(X_educ.T, X_educ)\n",
    "inv_gram_X_educ = np.linalg.inv(gram_X_educ)\n",
    "mat_X_educ = np.dot(inv_gram_X_educ, X_educ.T)\n",
    "beta_wage_educ = np.dot(mat_X_educ, y_wage)\n",
    "SSE_wage_educ = np.sum((np.mean(y_wage) - np.dot(X_educ, beta_wage_educ))**2)\n",
    "SST_wage = np.sum((np.mean(y_wage) - y_wage)**2)\n",
    "R2_wage_educ = SSE_wage_educ / SST_wage\n",
    "print(R2_wage_educ)\n",
    "\n",
    "# Regression de wage en fonction de exper\n",
    "array_exper = np.array(df_mroz['exper']).reshape(-1, 1)\n",
    "y_wage = np.array(df_mroz['wage']).reshape(-1, 1)\n",
    "n_wage_exper, k_wage_exper = array_exper.shape\n",
    "X_exper = np.hstack((np.ones((n_wage_educ, 1)), array_exper))\n",
    "print(X_exper.shape)\n",
    "n_wage_exper, k_wage_exper = X_exper.shape\n",
    "gram_X_exper = np.dot(X_exper.T, X_exper)\n",
    "inv_gram_X_exper = np.linalg.inv(gram_X_exper)\n",
    "mat_X_exper = np.dot(inv_gram_X_exper, X_exper.T)\n",
    "beta_wage_exper = np.dot(mat_X_exper, y_wage)\n",
    "SSE_wage_exper = np.sum((np.mean(y_wage) - np.dot(X_exper, beta_wage_exper))**2)\n",
    "SST_wage = np.sum((np.mean(y_wage) - y_wage)**2)\n",
    "R2_wage_educ = SSE_wage_exper / SST_wage\n",
    "print(R2_wage_educ)\n",
    "\n",
    "# Regression de wage en fonction de fatheduc\n",
    "array_fatheduc = np.array(df_mroz['fatheduc']).reshape(-1, 1)\n",
    "y_wage = np.array(df_mroz['wage']).reshape(-1, 1)\n",
    "n_wage_fatheduc, k_wage_fatheduc = array_fatheduc.shape\n",
    "X_fatheduc = np.hstack((np.ones((n_wage_fatheduc, 1)), array_fatheduc))\n",
    "print(X_fatheduc.shape)\n",
    "n_wage_fatheduc, k_wage_fatheduc = X_fatheduc.shape\n",
    "gram_X_fatheduc = np.dot(X_fatheduc.T, X_fatheduc)\n",
    "inv_gram_X_fatheduc = np.linalg.inv(gram_X_fatheduc)\n",
    "mat_X_fatheduc = np.dot(inv_gram_X_fatheduc, X_fatheduc.T)\n",
    "beta_wage_fatheduc = np.dot(mat_X_fatheduc, y_wage)\n",
    "SSE_wage_fatheduc = np.sum((np.mean(y_wage) - np.dot(X_fatheduc, beta_wage_fatheduc))**2)\n",
    "SST_wage = np.sum((np.mean(y_wage) - y_wage)**2)\n",
    "R2_wage_educ = SSE_wage_fatheduc / SST_wage\n",
    "print(R2_wage_educ)"
   ]
  },
  {
   "cell_type": "markdown",
   "metadata": {},
   "source": [
    "Nous avons des $R^{2}$ très faibles. Ceci nous informe donc qu'il y a très peu de lien entre les valeurs prédites par ces modèles et les vraies valeurs de y. Il manque donc des variables significatives pour expliquer la variable wage. Ceci ne nous permet de vérifier l'effet ceteris paribus"
   ]
  },
  {
   "cell_type": "code",
   "execution_count": 22,
   "metadata": {
    "scrolled": false
   },
   "outputs": [
    {
     "data": {
      "text/plain": [
       "<matplotlib.text.Text at 0x112c0edd8>"
      ]
     },
     "execution_count": 22,
     "metadata": {},
     "output_type": "execute_result"
    },
    {
     "data": {
      "image/png": "[encoded data removed]",
      "text/plain": [
       "<matplotlib.figure.Figure at 0x112b07828>"
      ]
     },
     "metadata": {},
     "output_type": "display_data"
    }
   ],
   "source": [
    "fig, axes = plt.subplots(3, 1,figsize=(15,20) )\n",
    "axes[0].scatter(df_mroz['educ'], df_mroz['wage'])\n",
    "axes[0].plot(df_mroz['educ'], np.dot(X_educ, beta_wage_educ),'r')\n",
    "axes[0].set_ylabel('wage')\n",
    "axes[0].set_xlabel('educ')\n",
    "axes[0].set_title('nuage de point de wage en fonction de educ')\n",
    "axes[2].scatter(df_mroz['exper'], df_mroz['wage'])\n",
    "axes[2].plot(df_mroz['exper'], np.dot(X_exper, beta_wage_exper),'r')\n",
    "axes[2].set_ylabel('wage')\n",
    "axes[2].set_xlabel('exper')\n",
    "axes[2].set_title('nuage de point de wage en fonction de exper')\n",
    "axes[1].scatter(df_mroz['fatheduc'], df_mroz['wage'])\n",
    "axes[1].plot(df_mroz['fatheduc'], np.dot(X_fatheduc, beta_wage_fatheduc),'r')\n",
    "axes[1].set_ylabel('wage')\n",
    "axes[1].set_xlabel('fatheduc')\n",
    "axes[1].set_title('nuage de point de wage en fonction de fatheduc')\n"
   ]
  },
  {
   "cell_type": "markdown",
   "metadata": {},
   "source": [
    "Au vue des graphes, on peut s'interroger sur le fait que la moyenne des résidus pour chaque tranche de nos variables explicatives soit constante. Ceci est nécessaire pour voir un effet \"toute chose égale par ailleurs\". \n",
    "\n",
    "Cet effet consiste à voir l'effet d'une variable explicative sur la variable expliquée à \"toute chose égale par ailleurs\". C'est-à-dire à tout autre variable constante (résidus compris). \n",
    "\n",
    "Il est donc nécessaire que u ne contienne pas de variable cachée corrélée à une variable explicative. Notre variable u doit donc avoir une espérance conditionnelle à nos variables explicatives constante (ie moyenne conditionnelle de u par rapport à X)."
   ]
  },
  {
   "cell_type": "markdown",
   "metadata": {},
   "source": [
    "### 6- Quelle est l'hypothèse fondamentale qui garanti des estimateurs non biaisés ? Expliquer le biais de variable omise"
   ]
  },
  {
   "cell_type": "markdown",
   "metadata": {},
   "source": [
    "L'hypothèse fondamentale correspond à avoir une espérance conditionnelle de la variable non observée par rapport à la variable explicative qui soit identique quelque soit la valeur de la variable explicative(ie: la moyenne des résidus pour chaque tranche de nos variables explicatives soit constante). \n",
    "\n",
    "\n",
    "Le biais de variable omise arrive lorsque nous ne respectons pas cette condition (cette condition influe directement sur la valeur du $\\beta_{0}$ des modèles linéaires ci-dessus).\n",
    "\n",
    "Notons que pour avoir le meilleur estimateur non-biaisée, il est nécéssaire de faire une hypothèse supplémentaire: avoir une variance de la variable cachée (résidu u) constante vis-à-vis des variables explicatives. C'est l'homoscédasticité. \n",
    "Les résidus sont centrés via la valeur de l'intercept de notre modèle régressif."
   ]
  },
  {
   "cell_type": "code",
   "execution_count": 23,
   "metadata": {},
   "outputs": [
    {
     "name": "stdout",
     "output_type": "stream",
     "text": [
      "1.5007725073063798e-14\n",
      "-5.14645439452409e-16\n",
      "-2.1249876209647854e-15\n"
     ]
    }
   ],
   "source": [
    "# Calculons l'espérance des résdus\n",
    "u_educ = y_wage - np.dot(X_educ, beta_wage_educ)\n",
    "E_educ = np.mean(u_educ)\n",
    "print(E_educ)\n",
    "#sig2_educ = np.dot(u_educ.T, u_educ) / (n - 2)\n",
    "#std_educ = np.sqrt(np.diag(np.dot(sig2_educ, inv_gram_X_educ)))\n",
    "#print(std_educ)\n",
    "\n",
    "u_exper = y_wage - np.dot(X_exper, beta_wage_exper)\n",
    "E_exper = np.mean(u_exper)\n",
    "print(E_exper)\n",
    "#sig2_exper = np.dot(u_exper.T, u_exper) / (n - 2)\n",
    "#std_exper = np.sqrt(np.diag(np.dot(sig2_exper, inv_gram_X_exper)))\n",
    "#print(std_exper)\n",
    "\n",
    "u_fatheduc = y_wage - np.dot(X_fatheduc, beta_wage_fatheduc)\n",
    "E_fatheduc = np.mean(u_fatheduc)\n",
    "print(E_fatheduc)\n",
    "#sig2_exper = np.dot(u_exper.T, u_exper) / (n - 2)\n",
    "#std_exper = np.sqrt(np.diag(np.dot(sig2_exper, inv_gram_X_exper)))\n",
    "#print(std_exper)\n",
    "\n",
    "df_educ = pd.DataFrame(np.hstack((u_educ, np.array(df_mroz['educ']).reshape(-1,1))))\n",
    "df_exper = pd.DataFrame(np.hstack((u_exper, np.array(df_mroz['exper']).reshape(-1,1))))\n",
    "df_fatheduc = pd.DataFrame(np.hstack((u_fatheduc, np.array(df_mroz['fatheduc']).reshape(-1,1))))\n",
    "means_educ = df_educ.groupby([1])[0].mean()\n",
    "means_exper = df_exper.groupby([1])[0].mean()\n",
    "means_fatheduc = df_fatheduc.groupby([1])[0].mean()"
   ]
  },
  {
   "cell_type": "markdown",
   "metadata": {},
   "source": [
    "Les moyennes de nos résidus sont donc très proches de 0. On peut donc supposer que l'espérance de nos résidus est nulle et donc avoir des résidus centrés."
   ]
  },
  {
   "cell_type": "code",
   "execution_count": 24,
   "metadata": {},
   "outputs": [
    {
     "name": "stdout",
     "output_type": "stream",
     "text": [
      "1\n",
      "5.0     1.648325\n",
      "6.0     0.733650\n",
      "7.0     1.205008\n",
      "8.0     0.732025\n",
      "9.0     0.259055\n",
      "10.0    0.362979\n",
      "Name: 0, dtype: float64\n",
      "1\n",
      "0.0   -1.363280\n",
      "1.0   -2.185810\n",
      "2.0    0.712727\n",
      "3.0   -0.340350\n",
      "4.0    0.457708\n",
      "5.0   -1.556638\n",
      "Name: 0, dtype: float64\n",
      "1\n",
      "0.0     1.912892\n",
      "3.0     0.810933\n",
      "7.0    -0.197994\n",
      "9.0     0.232469\n",
      "10.0   -0.349588\n",
      "Name: 0, dtype: float64\n"
     ]
    }
   ],
   "source": [
    "print(means_educ[5:10])\n",
    "print(means_exper[:5])\n",
    "print(means_fatheduc[:10])"
   ]
  },
  {
   "cell_type": "markdown",
   "metadata": {},
   "source": [
    "On remarque que les moyennes conditionnelles des résidus en fonction des variables explicatives sont très inégales. Ce qui implique que la condition fondamentale n'est pas respectée."
   ]
  },
  {
   "cell_type": "markdown",
   "metadata": {},
   "source": [
    "### 7- Faire la régression de wage en utilisant les variables explicatives une constante, city, educ, exper, nwifeinc, kidslt6, kidsge6. Commentez l'histogramme des résidus."
   ]
  },
  {
   "cell_type": "code",
   "execution_count": 25,
   "metadata": {},
   "outputs": [
    {
     "name": "stdout",
     "output_type": "stream",
     "text": [
      "(428, 7)\n"
     ]
    }
   ],
   "source": [
    "array_ = np.array(df_mroz[['city', 'educ', 'exper', 'nwifeinc', 'kidslt6','kidsge6']])\n",
    "y_wage = np.array(df_mroz['wage']).reshape(-1, 1)\n",
    "n, k = array_.shape\n",
    "X = np.hstack((np.ones((n, 1)), array_))\n",
    "n, k = X.shape\n",
    "print(X.shape)\n",
    "gram_X = np.dot(X.T, X)\n",
    "inv_gram_X = np.linalg.inv(gram_X)\n",
    "mat_X = np.dot(inv_gram_X, X.T)\n",
    "beta_wage = np.dot(mat_X, y_wage)\n",
    "u = y_wage - np.dot(X, beta_wage)\n",
    "\n",
    "# Calcul de la standard deviation\n",
    "sig2_MCO = np.dot(u.T, u) / (n - k)\n",
    "std_MCO = np.sqrt(np.diag(sig2_MCO * inv_gram_X))"
   ]
  },
  {
   "cell_type": "code",
   "execution_count": 26,
   "metadata": {
    "scrolled": false
   },
   "outputs": [
    {
     "data": {
      "text/plain": [
       "<matplotlib.legend.Legend at 0x112f5aac8>"
      ]
     },
     "execution_count": 26,
     "metadata": {},
     "output_type": "execute_result"
    },
    {
     "data": {
      "image/png": "[encoded data removed]",
      "text/plain": [
       "<matplotlib.figure.Figure at 0x10500f048>"
      ]
     },
     "metadata": {},
     "output_type": "display_data"
    }
   ],
   "source": [
    "from scipy.stats import norm\n",
    "mu_u, std_u = norm.fit(u)\n",
    "x = np.linspace(-5, 20, 1000)\n",
    "distrib_ = np.array(norm.pdf(x, mu_u, std_u))\n",
    "fig, axes = plt.subplots(nrows=1, ncols=1,  figsize=(18, 6))\n",
    "plt.plot(x,distrib_, label='distribution normale approchée')\n",
    "plt.hist(u, label='u', normed=True, bins=50)\n",
    "plt.title('histogramme des résidus')\n",
    "plt.xlabel('residu')\n",
    "plt.ylabel('frequence')\n",
    "plt.legend(loc='upper right')"
   ]
  },
  {
   "cell_type": "code",
   "execution_count": 27,
   "metadata": {},
   "outputs": [
    {
     "data": {
      "image/png": "[encoded data removed]",
      "text/plain": [
       "<matplotlib.figure.Figure at 0x112ade668>"
      ]
     },
     "metadata": {},
     "output_type": "display_data"
    }
   ],
   "source": [
    "u_qqplot = list(u)\n",
    "u_qqplot.sort()\n",
    "u_qqplot = np.array(u_qqplot)\n",
    "\n",
    "fig, axes = plt.subplots(nrows=1, ncols=2, figsize=(18, 6))\n",
    "sns.distplot(u, ax=axes[0])\n",
    "\n",
    "qqplot(u_qqplot, line='q', ax=axes[1])\n",
    "\n",
    "axes[0].title.set_text('Résidus')\n",
    "axes[1].title.set_text(\n",
    "    'QQ plot de la distribution des résidus u_log en fonction de la distribution normale')\n",
    "plt.show()"
   ]
  },
  {
   "cell_type": "markdown",
   "metadata": {},
   "source": [
    "On remarque que les résidus n'ont pas une distribution gaussienne.\n",
    "Le QQ-plot repésente les quantiles de x par rapport aux quantiles d'une distribution normale. En effet, on remarque que la distribution des résidus diffère largement d'une distribution normale pour les derniers quantiles."
   ]
  },
  {
   "cell_type": "markdown",
   "metadata": {},
   "source": [
    "### 8- Faire la régression de lwage sur une constante, city, educ, exper, nwifeinc, kidslt6, kidsge6. Comparer l’histogramme obtenu à celui de la question 7."
   ]
  },
  {
   "cell_type": "code",
   "execution_count": 28,
   "metadata": {},
   "outputs": [
    {
     "name": "stdout",
     "output_type": "stream",
     "text": [
      "(428, 7)\n"
     ]
    }
   ],
   "source": [
    "array_ = np.array(\n",
    "    df_mroz[['city', 'educ', 'exper', 'nwifeinc', 'kidslt6', 'kidsge6']])\n",
    "y_lwage = np.array(np.log(df_mroz['wage'])).reshape(-1, 1)\n",
    "n, k = array_.shape\n",
    "X = np.hstack((np.ones((n, 1)), array_))\n",
    "n, k = X.shape\n",
    "print(X.shape)\n",
    "gram_X = np.dot(X.T, X)\n",
    "inv_gram_X = np.linalg.inv(gram_X)\n",
    "mat_X = np.dot(inv_gram_X, X.T)\n",
    "beta_lwage = np.dot(mat_X, y_lwage)\n",
    "u_log = y_lwage - np.dot(X, beta_lwage)"
   ]
  },
  {
   "cell_type": "code",
   "execution_count": 29,
   "metadata": {},
   "outputs": [
    {
     "data": {
      "text/plain": [
       "<matplotlib.legend.Legend at 0x114afc940>"
      ]
     },
     "execution_count": 29,
     "metadata": {},
     "output_type": "execute_result"
    },
    {
     "data": {
      "image/png": "[encoded data removed]",
      "text/plain": [
       "<matplotlib.figure.Figure at 0x112a805f8>"
      ]
     },
     "metadata": {},
     "output_type": "display_data"
    }
   ],
   "source": [
    "mu_u_log, std_u_log = norm.fit(u_log)\n",
    "x = np.linspace(-5, 5, 100)\n",
    "distrib_log = norm.pdf(x, mu_u_log, std_u_log)\n",
    "\n",
    "fig, axes = plt.subplots(nrows=1, ncols=1,  figsize=(18, 6))\n",
    "plt.hist(u_log, normed=True, bins=50, label='u_log')\n",
    "plt.plot(x, distrib_log, label='distribution normale approchée')\n",
    "plt.title('histogramme des log-résidus')\n",
    "plt.xlabel('log-residu')\n",
    "plt.ylabel('frequence')\n",
    "plt.legend(loc='upper right')"
   ]
  },
  {
   "cell_type": "code",
   "execution_count": 30,
   "metadata": {},
   "outputs": [
    {
     "data": {
      "image/png": "[encoded data removed]",
      "text/plain": [
       "<matplotlib.figure.Figure at 0x114bfbe10>"
      ]
     },
     "metadata": {},
     "output_type": "display_data"
    }
   ],
   "source": [
    "fig, axes = plt.subplots(nrows=1, ncols=2, sharey=False, figsize=(18, 6))\n",
    "sns.distplot(u_log, ax=axes[0])\n",
    "u_log_qqplot = list(u_log)\n",
    "u_log_qqplot.sort()\n",
    "u_log_qqplot = np.array(u_log_qqplot)\n",
    "qqplot(u_log_qqplot, line='q', fit=True, ax=axes[1])\n",
    "\n",
    "axes[0].title.set_text('Résidus')\n",
    "axes[1].title.set_text(\n",
    "    'QQ plot de la distribution des résidus u_log en fonction de la distribution normale')\n",
    "plt.show()"
   ]
  },
  {
   "cell_type": "markdown",
   "metadata": {},
   "source": [
    "On remarque que les distribution de résidus de la régression linéaire de lwage suivent mieux une distribution normale.\n",
    "Ce qui est meilleur pour les tests statistiques."
   ]
  },
  {
   "cell_type": "markdown",
   "metadata": {},
   "source": [
    "### 9- Tester l'hypothèse de non significativité de exper avec un seuil de significativité de 1%, 5% et 10% (test alternatif des deux côtés). Commentez les p-values."
   ]
  },
  {
   "cell_type": "markdown",
   "metadata": {},
   "source": [
    "Pour tester cette hypothèse nous allons faire un test de Student sur la variable exper."
   ]
  },
  {
   "cell_type": "code",
   "execution_count": 31,
   "metadata": {},
   "outputs": [
    {
     "name": "stdout",
     "output_type": "stream",
     "text": [
      "(428, 7)\n",
      "[0.20705047 0.07017832 0.01510178 0.004487   0.00333073 0.08530773\n",
      " 0.02694439]\n"
     ]
    }
   ],
   "source": [
    "array_ = np.array(\n",
    "    df_mroz[['city', 'educ', 'exper', 'nwifeinc', 'kidslt6', 'kidsge6']])\n",
    "X = np.hstack((np.ones((n, 1)), array_))\n",
    "n, k = X.shape\n",
    "print(X.shape)\n",
    "gram_X = np.dot(X.T, X)\n",
    "inv_gram_X = np.linalg.inv(gram_X)\n",
    "mat_X = np.dot(inv_gram_X, X.T)\n",
    "beta_log = np.dot(mat_X, y_lwage)\n",
    "u_log = y_lwage - np.dot(X, beta_log)\n",
    "\n",
    "# Calcul de la standard deviation\n",
    "sig2_log = np.dot(u_log.T, u_log) / (n - k)\n",
    "std_log = np.sqrt(np.diag(sig2_log * inv_gram_X))\n",
    "print(std_log)"
   ]
  },
  {
   "cell_type": "code",
   "execution_count": 32,
   "metadata": {},
   "outputs": [
    {
     "name": "stdout",
     "output_type": "stream",
     "text": [
      "Nous avons donc une t-statistique associée à la variable exper de 3.4517180575592707\n"
     ]
    }
   ],
   "source": [
    "t_log = beta_log[3] / std_log[3]\n",
    "print(\"Nous avons donc une t-statistique associée à la variable exper de {}\".format(t_log[0]))"
   ]
  },
  {
   "cell_type": "code",
   "execution_count": 33,
   "metadata": {},
   "outputs": [
    {
     "name": "stdout",
     "output_type": "stream",
     "text": [
      "1.6484810571255268\n"
     ]
    }
   ],
   "source": [
    "p_value = sp.stats.t.ppf(0.95, n - k)\n",
    "print(p_value)"
   ]
  },
  {
   "cell_type": "code",
   "execution_count": 34,
   "metadata": {},
   "outputs": [
    {
     "name": "stdout",
     "output_type": "stream",
     "text": [
      "1.965614792008086\n"
     ]
    }
   ],
   "source": [
    "p_value = sp.stats.t.ppf(0.975, n - k)\n",
    "print(p_value)"
   ]
  },
  {
   "cell_type": "code",
   "execution_count": 35,
   "metadata": {},
   "outputs": [
    {
     "name": "stdout",
     "output_type": "stream",
     "text": [
      "2.5875575730543354\n"
     ]
    }
   ],
   "source": [
    "p_value = sp.stats.t.ppf(0.995, n - k)\n",
    "print(p_value)"
   ]
  },
  {
   "cell_type": "markdown",
   "metadata": {},
   "source": [
    "On remarque que la variable t_log est supérieure à tous les p-values des tests à 10%, 5% et 1%.\n",
    "Les tests de non-significativité de expr à des significativité à 10%, 5% et 1% sont donc rejetés."
   ]
  },
  {
   "cell_type": "markdown",
   "metadata": {},
   "source": [
    "### 10- Tester l’hypothèse que le coefficient associé à educ est égal à 10% avec un seuil de significativité de 5% (test à alternatif des deux côtés)"
   ]
  },
  {
   "cell_type": "code",
   "execution_count": 36,
   "metadata": {},
   "outputs": [
    {
     "name": "stdout",
     "output_type": "stream",
     "text": [
      "Nous avons donc une t-statistique associée à la variable educ de 0.14882589437781713\n"
     ]
    }
   ],
   "source": [
    "t_log = (beta_log[2] - 0.1) / std_log[2]\n",
    "print(\n",
    "    \"Nous avons donc une t-statistique associée à la variable educ de {}\".format(t_log[0]))"
   ]
  },
  {
   "cell_type": "code",
   "execution_count": 37,
   "metadata": {},
   "outputs": [
    {
     "name": "stdout",
     "output_type": "stream",
     "text": [
      "1.965614792008086\n"
     ]
    }
   ],
   "source": [
    "p_value = sp.stats.t.ppf(0.975, n - k)\n",
    "print(p_value)"
   ]
  },
  {
   "cell_type": "markdown",
   "metadata": {},
   "source": [
    "Le test du coefficient à 10% avec un seuil de significativité de 5% est accepté."
   ]
  },
  {
   "cell_type": "markdown",
   "metadata": {},
   "source": [
    "### 11- Tester l’hypothèse jointe que le rendement de l’éducation est de 10% et que celui de l’expérience professionnelle est de 5%."
   ]
  },
  {
   "cell_type": "markdown",
   "metadata": {},
   "source": [
    "Pour cela nous allons faire un test de Fisher avec $y^{*} = y - 0.1*educ - 0.05 * exper $ et $H_{0}: \\beta_{educ} = 0$ et $\\beta_{exper} = 0 $."
   ]
  },
  {
   "cell_type": "code",
   "execution_count": 38,
   "metadata": {},
   "outputs": [
    {
     "name": "stdout",
     "output_type": "stream",
     "text": [
      "(428, 7)\n",
      "[[-0.3989751 ]\n",
      " [ 0.03526789]\n",
      " [ 0.00224754]\n",
      " [-0.03451213]\n",
      " [ 0.0048827 ]\n",
      " [-0.04530286]\n",
      " [-0.01170351]]\n",
      "Nous avons donc une F-statistique de 29.580755900389306\n"
     ]
    }
   ],
   "source": [
    "# Modèle NC\n",
    "y_joint = y_lwage - 0.1 * df_mroz['educ'].reshape(-1, 1) - 0.05 * df_mroz['exper'].reshape(-1, 1)\n",
    "array_ = np.array(\n",
    "    df_mroz[['city', 'educ', 'exper', 'nwifeinc', 'kidslt6', 'kidsge6']])\n",
    "\n",
    "X = np.hstack((np.ones((n, 1)), array_))\n",
    "n, k = X.shape\n",
    "print(X.shape)\n",
    "gram_X = np.dot(X.T, X)\n",
    "inv_gram_X = np.linalg.inv(gram_X)\n",
    "mat_X = np.dot(inv_gram_X, X.T)\n",
    "beta_joint = np.dot(mat_X, y_joint)\n",
    "print(beta_joint)\n",
    "residu_NC = y_joint - np.dot(X, beta_joint)\n",
    "SSR_NC = np.dot(residu_NC.T, residu_NC)\n",
    "\n",
    "# Modèle Contraint (coeff des 'educ', 'exper' à 0)\n",
    "array_C = np.array(df_mroz[['city', 'nwifeinc', 'kidslt6', 'kidsge6']])\n",
    "X_C = np.hstack((np.ones((n, 1)), array_C))\n",
    "\n",
    "gram_X_C = np.dot(X_C.T, X_C)\n",
    "inv_gram_X_C = np.linalg.inv(gram_X_C)\n",
    "mat_X_C = np.dot(inv_gram_X_C, X_C.T)\n",
    "beta = np.dot(mat_X_C, y_joint)\n",
    "\n",
    "residu_C = y_joint - np.dot(X_C, beta)\n",
    "SSR_C = np.dot(residu_C.T, residu_C)\n",
    "\n",
    "q = 2  # nombre de variables dont on test\n",
    "F_stat = ((SSR_C - SSR_NC) / q) / (SSR_NC / (n - (k)))\n",
    "print(\"Nous avons donc une F-statistique de {}\".format(F_stat[0, 0]))"
   ]
  },
  {
   "cell_type": "code",
   "execution_count": 39,
   "metadata": {},
   "outputs": [
    {
     "name": "stdout",
     "output_type": "stream",
     "text": [
      "[[9.53553253e-13]]\n"
     ]
    }
   ],
   "source": [
    "# sc.stats.f.sf pour les test de Fischer ( t est pour les tests de Students)\n",
    "p_value = sp.stats.f.sf(F_stat, q, n - k)\n",
    "print(p_value)"
   ]
  },
  {
   "cell_type": "markdown",
   "metadata": {},
   "source": [
    "L'aire au-delà de la F-statistique étant bien inférieure à 1%, l'hypothèse jointe que le rendement de l’éducation est de 10% et que celui de l’expérience professionnelle est de 5% et ceux à une significativité de 5% est refusée."
   ]
  },
  {
   "cell_type": "markdown",
   "metadata": {},
   "source": [
    "### 12- De combien augmente le salaire en pourcentage avec 10 années d’expérience ?"
   ]
  },
  {
   "cell_type": "code",
   "execution_count": 40,
   "metadata": {},
   "outputs": [
    {
     "name": "stdout",
     "output_type": "stream",
     "text": [
      "(428, 7)\n"
     ]
    }
   ],
   "source": [
    "array_ = np.array(\n",
    "    df_mroz[['city', 'educ', 'exper', 'nwifeinc', 'kidslt6', 'kidsge6']])\n",
    "X = np.hstack((np.ones((n, 1)), array_))\n",
    "n, k = X.shape\n",
    "print(X.shape)\n",
    "gram_X = np.dot(X.T, X)\n",
    "inv_gram_X = np.linalg.inv(gram_X)\n",
    "mat_X = np.dot(inv_gram_X, X.T)\n",
    "beta_log = np.dot(mat_X, y_lwage)\n",
    "u_log = y_lwage - np.dot(X, beta_log)"
   ]
  },
  {
   "cell_type": "markdown",
   "metadata": {},
   "source": [
    "$log(wage) = \\beta_{0} + \\beta_{educ} * educ + \\beta_{exper} *exper + \\beta_{city} * city + \\beta_{nwifeinc} * nwifeinc + \\beta_{kidslt6} * kidslt6 + \\beta_{kidsge6} * kidsge6$\n",
    "\n",
    "$wage = e^{\\beta_{exper} * exper} * e^{\\beta_{0} + \\beta_{educ} * educ +\\beta_{city} * city + \\beta_{nwifeinc} * nwifeinc + \\beta_{kidslt6} * kidslt6 + \\beta_{kidsge6} * kidsge6}$\n",
    "\n",
    "\n",
    "$wage_{10ans} = e^{\\beta_{exper} * (exper+10)} * e^{\\beta_{0} + \\beta_{educ} * educ +\\beta_{city} * city + \\beta_{nwifeinc} * nwifeinc + \\beta_{kidslt6} * kidslt6 + \\beta_{kidsge6} * kidsge6}$\n",
    "\n",
    "\n",
    "$poucentage_{10ans} = (wage_{10ans} - wage) / wage$\n",
    "\n",
    "$poucentage_{10ans} = e^{\\beta_{exper} * 10} - 1$"
   ]
  },
  {
   "cell_type": "code",
   "execution_count": 41,
   "metadata": {},
   "outputs": [
    {
     "name": "stdout",
     "output_type": "stream",
     "text": [
      "Avec notre modèle, le poucentage de gain de salaire au bout de 10 ans est donc de: 0.16751634220298395\n"
     ]
    }
   ],
   "source": [
    "pourcentage = np.exp((beta_log[3] * 10)) - 1\n",
    "print(\"Avec notre modèle, le poucentage de gain de salaire au bout de 10 ans est donc de: {}\".format(pourcentage[0]))"
   ]
  },
  {
   "cell_type": "markdown",
   "metadata": {},
   "source": [
    "Le salaire augmente de 16,75%."
   ]
  },
  {
   "cell_type": "markdown",
   "metadata": {},
   "source": [
    "### 13- Tester l’égalité des coefficients associés aux variables kidsge6 et kidslt6. Interprétez."
   ]
  },
  {
   "cell_type": "code",
   "execution_count": 42,
   "metadata": {},
   "outputs": [
    {
     "name": "stdout",
     "output_type": "stream",
     "text": [
      "(428, 7)\n",
      "Valeur de la t-statistique: -0.3717472501996224\n",
      "Valeur de la p-value à 5% de significativité en test des 2 côtés: 1.965614792008086\n",
      "Valeur de la p-value à 10% de significativité en test des 2 côtés: 1.6484810571255268\n"
     ]
    }
   ],
   "source": [
    "array_ = np.array(df_mroz[['city', 'educ', 'exper', 'nwifeinc', 'kidslt6']])\n",
    "kid_age = df_mroz['kidslt6'] + df_mroz['kidsge6']\n",
    "kid_age = kid_age.reshape(-1, 1)\n",
    "array_ = np.hstack((array_, kid_age))\n",
    "X = np.hstack((np.ones((n, 1)), array_))\n",
    "n, k = X.shape\n",
    "print(X.shape)\n",
    "gram_X = np.dot(X.T, X)\n",
    "inv_gram_X = np.linalg.inv(gram_X)\n",
    "mat_X = np.dot(inv_gram_X, X.T)\n",
    "beta_log = np.dot(mat_X, y_lwage)\n",
    "u_log = y_lwage - np.dot(X, beta_log)\n",
    "\n",
    "# Calcul de la standard deviation\n",
    "sig2_log = np.dot(u_log.T, u_log) / (n - k)\n",
    "std_log = np.sqrt(np.diag(sig2_log * inv_gram_X))\n",
    "# print(std_log)\n",
    "\n",
    "t_log = (beta_log[5]) / std_log[5]\n",
    "print('Valeur de la t-statistique: %s' % t_log[0])\n",
    "p_value = sp.stats.t.ppf(0.975, n - k)\n",
    "print('Valeur de la p-value à 5% de significativité en test des 2 côtés: {}'.format(p_value))\n",
    "\n",
    "p_value = sp.stats.t.ppf(0.95, n - k)\n",
    "print('Valeur de la p-value à 10% de significativité en test des 2 côtés: {}'.format(p_value))"
   ]
  },
  {
   "cell_type": "markdown",
   "metadata": {},
   "source": [
    "L'hypothèse d'égalité des coefficients associés aux variables kidsge6 et kidslt6 n'est donc pas rejetée à 10% et 5%."
   ]
  },
  {
   "cell_type": "markdown",
   "metadata": {},
   "source": [
    "### 14- En utilisant le modèle de la question 7, faire le test d'hétéroscédasticité de forme linéaire en donnant la p-valeur. Corriger le problème par rapport à la variable la plus importante en utilisant la méthode des MCG. Comparer les écarts-types des coefficients estimés avec ceux obtenus à la question 7. Commenter."
   ]
  },
  {
   "cell_type": "code",
   "execution_count": 43,
   "metadata": {},
   "outputs": [
    {
     "name": "stdout",
     "output_type": "stream",
     "text": [
      "(428, 7)\n",
      "Nous avons donc une F-statistique de 1.5926181620172075\n"
     ]
    }
   ],
   "source": [
    "array_ = np.array(\n",
    "    df_mroz[['city', 'educ', 'exper', 'nwifeinc', 'kidslt6', 'kidsge6']])\n",
    "y_wage = np.array(df_mroz['wage']).reshape(-1, 1)\n",
    "n, k = array_.shape\n",
    "X = np.hstack((np.ones((n, 1)), array_))\n",
    "n, k = X.shape\n",
    "# print(X.shape)\n",
    "gram_X = np.dot(X.T, X)\n",
    "inv_gram_X = np.linalg.inv(gram_X)\n",
    "mat_X = np.dot(inv_gram_X, X.T)\n",
    "beta_wage = np.dot(mat_X, y_wage)\n",
    "u = y_wage - np.dot(X, beta_wage)\n",
    "\n",
    "# Regression de u_squared\n",
    "df_u = pd.DataFrame(u)\n",
    "u_squared = df_u.apply(lambda x: x**2)\n",
    "y_squared = u_squared\n",
    "\n",
    "n, k = array_.shape\n",
    "X = np.hstack((np.ones((n, 1)), array_))\n",
    "n, k = X.shape\n",
    "print(X.shape)\n",
    "gram_X = np.dot(X.T, X)\n",
    "inv_gram_X = np.linalg.inv(gram_X)\n",
    "mat_X = np.dot(inv_gram_X, X.T)\n",
    "beta_u = np.dot(mat_X, y_squared)\n",
    "\n",
    "residu_u_squared_NC = y_squared - np.dot(X, beta_u)\n",
    "SSR_NC = np.dot(residu_u_squared_NC.T, residu_u_squared_NC)\n",
    "\n",
    "# Modèle Contraint (tous les coefficients des variables à 0)\n",
    "X_C = np.ones((n, 1))\n",
    "\n",
    "gram_X_C = np.dot(X_C.T, X_C)\n",
    "inv_gram_X_C = np.linalg.inv(gram_X_C)\n",
    "mat_X_C = np.dot(inv_gram_X_C, X_C.T)\n",
    "beta = np.dot(mat_X_C, y_squared)\n",
    "\n",
    "residu_u_squared_C = y_squared - np.dot(X_C, beta)\n",
    "SSR_C = np.dot(residu_u_squared_C.T, residu_u_squared_C)\n",
    "\n",
    "q = 6  # nombre de variables dont on test\n",
    "F_stat = ((SSR_C - SSR_NC) / q) / (SSR_NC / (n - (k)))\n",
    "print(\"Nous avons donc une F-statistique de {}\".format(F_stat[0, 0]))"
   ]
  },
  {
   "cell_type": "code",
   "execution_count": 44,
   "metadata": {},
   "outputs": [
    {
     "name": "stdout",
     "output_type": "stream",
     "text": [
      "Nous avons donc une aire au-delà de la F_stat de 0.14766133314493152\n"
     ]
    }
   ],
   "source": [
    "# sc.stats.f.sf pour les test de Fischer ( t est pour les tests de Students)\n",
    "p_value = sp.stats.f.sf(F_stat, q, n - k)\n",
    "print(\n",
    "    \"Nous avons donc une aire au-delà de la F_stat de {}\".format(p_value[0, 0]))"
   ]
  },
  {
   "cell_type": "markdown",
   "metadata": {},
   "source": [
    "Le test d'homoscédasticité étant à une significativité de 5%.\n",
    "Nous avons donc notre hypothèse $H_{0}$: Le modèle est homoscédastique qui n'est pas rejeté.\n",
    "Nous allons maintenant procéder à une régression des moindres carrés généralisés afin d'avoir une hypothèse d'homoscédasticité plus robuste. Nous allons utiliser le système des MCG vis-à-vis de la variable la plus importante. "
   ]
  },
  {
   "cell_type": "code",
   "execution_count": 45,
   "metadata": {},
   "outputs": [
    {
     "name": "stdout",
     "output_type": "stream",
     "text": [
      "[[-2.40345399]\n",
      " [ 0.36975203]\n",
      " [ 0.4600477 ]\n",
      " [ 0.02381995]\n",
      " [ 0.01524479]\n",
      " [ 0.03617319]\n",
      " [-0.06189091]]\n"
     ]
    }
   ],
   "source": [
    "# Pour Rappel\n",
    "print(beta_wage)"
   ]
  },
  {
   "cell_type": "markdown",
   "metadata": {},
   "source": [
    "Notre variable ayant le plus grand $\\beta$ est educ. C'est donc la variable la plus importante."
   ]
  },
  {
   "cell_type": "code",
   "execution_count": 46,
   "metadata": {
    "scrolled": false
   },
   "outputs": [
    {
     "name": "stdout",
     "output_type": "stream",
     "text": [
      "(428, 7)\n",
      "Nous avons donc une F-statistique de 1.4572446625540032\n"
     ]
    }
   ],
   "source": [
    "y_wage_rect = np.divide(\n",
    "    np.array(df_mroz['wage']), np.array(np.sqrt(df_mroz['educ'])))\n",
    "\n",
    "arr_ho = np.array(df_mroz[['city', 'educ', 'exper', 'nwifeinc',\n",
    "                           'kidslt6', 'kidsge6']]) / np.sqrt(df_mroz['educ']).reshape(-1, 1)\n",
    "\n",
    "X_MCG = np.hstack(\n",
    "    (np.ones((n, 1)) / np.sqrt(df_mroz['educ']).reshape(-1, 1), arr_ho))\n",
    "\n",
    "\n",
    "n, k = X_MCG.shape\n",
    "print(X_MCG.shape)\n",
    "\n",
    "gram_X_MCG = np.dot(X_MCG.T, X_MCG)\n",
    "inv_gram_X_MCG = np.linalg.inv(gram_X_MCG)\n",
    "mat_X_MCG = np.dot(inv_gram_X_MCG, X_MCG.T)\n",
    "\n",
    "beta_MCG = np.dot(mat_X_MCG, y_wage_rect)\n",
    "u = y_wage_rect - np.dot(X_MCG, beta_MCG)\n",
    "sig2_MCG = u.T@u / (n - k)\n",
    "std_MCG = np.sqrt(np.diag(sig2_MCG * inv_gram_X_MCG))\n",
    "\n",
    "df_u = pd.DataFrame(u)\n",
    "\n",
    "u_squared = df_u.apply(lambda x: x**2)\n",
    "y_squared = u_squared\n",
    "\n",
    "# Modèle NC\n",
    "beta = np.dot(mat_X_MCG, y_squared)\n",
    "residu_u_squared_NC = y_squared - np.dot(X_MCG, beta)\n",
    "SSR_NC = np.dot(residu_u_squared_NC.T, residu_u_squared_NC)\n",
    "\n",
    "# Modèle Contraint (tous les coefficients à 0)\n",
    "X_C = np.ones((n, 1)) / np.sqrt(df_mroz['educ']).reshape(-1, 1)\n",
    "gram_X_C = np.dot(X_C.T, X_C)\n",
    "inv_gram_X_C = np.linalg.inv(gram_X_C)\n",
    "mat_X_C = inv_gram_X_C * X_C.T\n",
    "beta = np.dot(mat_X_C, y_squared)\n",
    "residu_u_squared_C = y_squared - np.dot(X_C, beta)\n",
    "SSR_C = np.dot(residu_u_squared_C.T, residu_u_squared_C)\n",
    "\n",
    "q = 6  # nombre de variables\n",
    "F_stat = ((SSR_C - SSR_NC) / q) / (SSR_NC / (n - (k)))\n",
    "print(\"Nous avons donc une F-statistique de {}\".format(F_stat[0, 0]))"
   ]
  },
  {
   "cell_type": "code",
   "execution_count": 47,
   "metadata": {},
   "outputs": [
    {
     "name": "stdout",
     "output_type": "stream",
     "text": [
      "Nous avons donc une aire au-delà de la F_stat de 0.19147835700229163\n"
     ]
    }
   ],
   "source": [
    "# sc.stats.f.sf pour les test de Fischer ( t est pour les tests de Students)\n",
    "p_value = sp.stats.f.sf(F_stat, q, n - k)\n",
    "print(\n",
    "    \"Nous avons donc une aire au-delà de la F_stat de {}\".format(p_value[0, 0]))"
   ]
  },
  {
   "cell_type": "markdown",
   "metadata": {},
   "source": [
    "Nous remarquons que nous avons une plus faible variable de Fisher ce qui se traduit par une plus grande aire au-delà de la courbe.\n",
    "Nous avons donc notre hypothèse $H_{0}$: Le modèle est homoscédastique qui n'est pas rejeté et ce avec plus significativité."
   ]
  },
  {
   "cell_type": "code",
   "execution_count": 48,
   "metadata": {},
   "outputs": [
    {
     "name": "stdout",
     "output_type": "stream",
     "text": [
      "La standard deviation des coefficients de la MCO sont: [0.96349591 0.32657023 0.07027516 0.02087998 0.01549936 0.39697399\n",
      " 0.12538399].\n",
      "La standard deviation des coefficients de la MCG sont: [0.88922322 0.31412513 0.06631588 0.02009794 0.01548682 0.39889659\n",
      " 0.11960991].\n"
     ]
    }
   ],
   "source": [
    "print(\"La standard deviation des coefficients de la MCO sont: {}.\".format(std_MCO))\n",
    "print(\"La standard deviation des coefficients de la MCG sont: {}.\".format(std_MCG))"
   ]
  },
  {
   "cell_type": "markdown",
   "metadata": {},
   "source": [
    "Nous avons donc les écarts-types des coefficients de $\\beta_{MCG}$ qui sont plus faibles que ceux des coefficients de $\\beta_{MCO}$ "
   ]
  },
  {
   "cell_type": "markdown",
   "metadata": {},
   "source": [
    "### 15- Tester le changement de structure de la question 8 entre les femmes qui ont plus de 43 ans et les autres : test sur l'ensemble des coefficients. Refaire le test avec 3 groupes (mutuellement exclusifs) : les femmes de moins de 30 ans, entre 30 et 43 ans, plus de 43 ans. Donnez les p-valeurs"
   ]
  },
  {
   "cell_type": "code",
   "execution_count": 49,
   "metadata": {},
   "outputs": [
    {
     "name": "stdout",
     "output_type": "stream",
     "text": [
      "Nous avons 186 femmes dont l'âge est supérieur à 43 ans.\n",
      "Nous avons 217 femmes dont l'âge est inférieur à 43 ans.\n"
     ]
    }
   ],
   "source": [
    "print(\"Nous avons %s femmes dont l'âge est supérieur à 43 ans.\"% df_mroz[df_mroz['age']>43].shape[0])\n",
    "print(\"Nous avons %s femmes dont l'âge est inférieur à 43 ans.\"% df_mroz[df_mroz['age']<43].shape[0])"
   ]
  },
  {
   "cell_type": "markdown",
   "metadata": {},
   "source": [
    "Nous avons 2 manières de procéder : \n",
    "    - créer 2 datasets différents (un dataset contant les femmes ayant moins de 43 ans et un contenant les femmes de plus de 43 ans) et calculer la Fisher entre 2 groupes.\n",
    "    - créer 6 variables d'intéractions et procéder à un test de Fisher sur l'hypothèse H0 qu'elles n'ont pas d'effets significatifs.\n",
    "\n",
    "Nous allons procéder selon la 2 manière pour tester ce changement de structure."
   ]
  },
  {
   "cell_type": "code",
   "execution_count": 50,
   "metadata": {},
   "outputs": [
    {
     "name": "stdout",
     "output_type": "stream",
     "text": [
      "(428, 14)\n",
      "Nous avons donc une F-statistique de 0.8260377871071967\n"
     ]
    }
   ],
   "source": [
    "# Creation des variables d'interaction\n",
    "const_over_43 = np.zeros((df_mroz.shape[0], 1))\n",
    "const_over_43[df_mroz['age'] > 43] = 1\n",
    "df_over_43 = df_mroz[['city', 'educ', 'exper', 'nwifeinc',\n",
    "                      'kidslt6', 'kidsge6']].where(df_mroz['age'] > 43, other=0)\n",
    "array_df = np.hstack((const_over_43, np.array(df_over_43)))\n",
    "n, k = array_df.shape\n",
    "\n",
    "array_ = np.hstack((np.ones((n, 1)), np.array(df_mroz[['city', 'educ', 'exper', 'nwifeinc',\n",
    "                                                       'kidslt6', 'kidsge6']])))\n",
    "\n",
    "X_over_43 = np.hstack((array_, array_df))\n",
    "n, k = X_over_43.shape\n",
    "print(X_over_43.shape)\n",
    "gram_X_over_43 = np.dot(X_over_43.T, X_over_43)\n",
    "inv_gram_X_over_43 = np.linalg.inv(gram_X_over_43)\n",
    "mat_X_over_43 = np.dot(inv_gram_X_over_43, X_over_43.T)\n",
    "beta_over_43_NC = np.dot(mat_X_over_43, y_lwage)\n",
    "u_NC = y_lwage - np.dot(X_over_43, beta_over_43_NC)\n",
    "SSR_NC = np.dot(u_NC.T, u_NC)\n",
    "# Modèle Contraint (tous les coefficients des variables d'interaction à 0)\n",
    "X_C = array_\n",
    "\n",
    "gram_X_C = np.dot(X_C.T, X_C)\n",
    "inv_gram_X_C = np.linalg.inv(gram_X_C)\n",
    "mat_X_C = np.dot(inv_gram_X_C, X_C.T)\n",
    "beta_C = np.dot(mat_X_C, y_lwage)\n",
    "\n",
    "u_C = y_lwage - np.dot(X_C, beta_C)\n",
    "SSR_C = np.dot(u_C.T, u_C)\n",
    "\n",
    "q = 7  # nombre de variables dont on test\n",
    "F_stat = ((SSR_C - SSR_NC) / q) / (SSR_NC / (n - (k)))\n",
    "print(\"Nous avons donc une F-statistique de {}\".format(F_stat[0, 0]))"
   ]
  },
  {
   "cell_type": "code",
   "execution_count": 51,
   "metadata": {},
   "outputs": [
    {
     "name": "stdout",
     "output_type": "stream",
     "text": [
      "Nous avons donc une aire au-delà de la F_stat de 0.5660361961109819\n"
     ]
    }
   ],
   "source": [
    "# sc.stats.f.sf pour les test de Fischer ( t est pour les tests de Students)\n",
    "p_value = sp.stats.f.sf(F_stat, q, n - k)\n",
    "print(\n",
    "    \"Nous avons donc une aire au-delà de la F_stat de {}\".format(p_value[0, 0]))"
   ]
  },
  {
   "cell_type": "markdown",
   "metadata": {},
   "source": [
    "Notre hypothèse H0 n'est donc pas rejetée. Le changement de structure n'est donc pas significatif."
   ]
  },
  {
   "cell_type": "code",
   "execution_count": 52,
   "metadata": {},
   "outputs": [
    {
     "name": "stdout",
     "output_type": "stream",
     "text": [
      "Nous avons 186 femmes dont l'âge est supérieur à 43 ans.\n",
      "Nous avons 0 femmes dont l'âge est inférieur à 30 ans.\n",
      "Nous avons 242 femmes dont l'âge est entre 30 et 43 ans.\n"
     ]
    }
   ],
   "source": [
    "print(\"Nous avons %s femmes dont l'âge est supérieur à 43 ans.\" %\n",
    "      df_mroz[df_mroz['age'] > 43].shape[0])\n",
    "print(\"Nous avons %s femmes dont l'âge est inférieur à 30 ans.\" %\n",
    "      df_mroz[df_mroz['age'] < 30].shape[0])\n",
    "print(\"Nous avons %s femmes dont l'âge est entre 30 et 43 ans.\" % (\n",
    "    df_mroz[df_mroz['age'] <= 43].shape[0] - df_mroz[df_mroz['age'] < 30].shape[0]))"
   ]
  },
  {
   "cell_type": "markdown",
   "metadata": {},
   "source": [
    "Comme nous n'avons pas d'échantillons représentant la catégorie d'âge en dessous de 30 ans, il n'est pas possible d'étudier ce changement de structure."
   ]
  },
  {
   "cell_type": "markdown",
   "metadata": {},
   "source": [
    "### 16- A partir de la variable kidslt6, créer un ensemble de variables binaires pour le nombre d’enfants de moins de 6 ans. Refaire la question 8 avec ces variables et en utilisant comme référence les femmes qui ont des enfants de plus de 6 ans. Ces catégories sont-elles mutuellement exclusives ? Interprétez les paramètres associés aux variables binaires. Faire le test de non significativité de l’ensemble des variables binaires. Donnez les p-valeurs"
   ]
  },
  {
   "cell_type": "code",
   "execution_count": 53,
   "metadata": {},
   "outputs": [
    {
     "name": "stdout",
     "output_type": "stream",
     "text": [
      "[0 1 2]\n"
     ]
    }
   ],
   "source": [
    "print(np.unique(df_mroz['kidslt6']))"
   ]
  },
  {
   "cell_type": "markdown",
   "metadata": {},
   "source": [
    "Les femmes échantillonées ont donc 0, 1 ou 2 enfants en dessous de l'âge de 6 ans.\n",
    "\n",
    "On ne peut pas prendre en référence la colonne des femmes ayant des enfants de plus de 6 ans car elles sont non mutuellement exclusives. \n",
    "\n",
    "Nous allons donc  procéder à la création des variables binaires 1_kidslt6 (associé au qu'une femme a ou non 1 enfant de moins de 6 ans) et 2_kidslt6. Nous prennons alors en référence la variable 0_kidslt6 liée à l'absence ou non d'un enfant de moins de 6 ans."
   ]
  },
  {
   "cell_type": "code",
   "execution_count": 54,
   "metadata": {},
   "outputs": [
    {
     "data": {
      "text/html": [
       "<div>\n",
       "<style>\n",
       "    .dataframe thead tr:only-child th {\n",
       "        text-align: right;\n",
       "    }\n",
       "\n",
       "    .dataframe thead th {\n",
       "        text-align: left;\n",
       "    }\n",
       "\n",
       "    .dataframe tbody tr th {\n",
       "        vertical-align: top;\n",
       "    }\n",
       "</style>\n",
       "<table border=\"1\" class=\"dataframe\">\n",
       "  <thead>\n",
       "    <tr style=\"text-align: right;\">\n",
       "      <th></th>\n",
       "      <th>lwage</th>\n",
       "      <th>city</th>\n",
       "      <th>educ</th>\n",
       "      <th>exper</th>\n",
       "      <th>nwifeinc</th>\n",
       "      <th>kidsge6</th>\n",
       "      <th>_1_kidslt6</th>\n",
       "      <th>_2_kidslt6</th>\n",
       "    </tr>\n",
       "  </thead>\n",
       "  <tbody>\n",
       "    <tr>\n",
       "      <th>0</th>\n",
       "      <td>1.210154</td>\n",
       "      <td>0</td>\n",
       "      <td>12</td>\n",
       "      <td>14</td>\n",
       "      <td>10.910060</td>\n",
       "      <td>0</td>\n",
       "      <td>1.0</td>\n",
       "      <td>0.0</td>\n",
       "    </tr>\n",
       "    <tr>\n",
       "      <th>1</th>\n",
       "      <td>0.328512</td>\n",
       "      <td>1</td>\n",
       "      <td>12</td>\n",
       "      <td>5</td>\n",
       "      <td>19.499980</td>\n",
       "      <td>2</td>\n",
       "      <td>0.0</td>\n",
       "      <td>0.0</td>\n",
       "    </tr>\n",
       "    <tr>\n",
       "      <th>2</th>\n",
       "      <td>1.514138</td>\n",
       "      <td>0</td>\n",
       "      <td>12</td>\n",
       "      <td>15</td>\n",
       "      <td>12.039910</td>\n",
       "      <td>3</td>\n",
       "      <td>1.0</td>\n",
       "      <td>0.0</td>\n",
       "    </tr>\n",
       "    <tr>\n",
       "      <th>3</th>\n",
       "      <td>0.092123</td>\n",
       "      <td>0</td>\n",
       "      <td>12</td>\n",
       "      <td>6</td>\n",
       "      <td>6.799996</td>\n",
       "      <td>3</td>\n",
       "      <td>0.0</td>\n",
       "      <td>0.0</td>\n",
       "    </tr>\n",
       "    <tr>\n",
       "      <th>4</th>\n",
       "      <td>1.524272</td>\n",
       "      <td>1</td>\n",
       "      <td>14</td>\n",
       "      <td>7</td>\n",
       "      <td>20.100060</td>\n",
       "      <td>2</td>\n",
       "      <td>1.0</td>\n",
       "      <td>0.0</td>\n",
       "    </tr>\n",
       "  </tbody>\n",
       "</table>\n",
       "</div>"
      ],
      "text/plain": [
       "      lwage  city  educ  exper   nwifeinc  kidsge6  _1_kidslt6  _2_kidslt6\n",
       "0  1.210154     0    12     14  10.910060        0         1.0         0.0\n",
       "1  0.328512     1    12      5  19.499980        2         0.0         0.0\n",
       "2  1.514138     0    12     15  12.039910        3         1.0         0.0\n",
       "3  0.092123     0    12      6   6.799996        3         0.0         0.0\n",
       "4  1.524272     1    14      7  20.100060        2         1.0         0.0"
      ]
     },
     "execution_count": 54,
     "metadata": {},
     "output_type": "execute_result"
    }
   ],
   "source": [
    "df_kidslt6 = df_mroz[['lwage', 'city', 'educ', 'exper', 'nwifeinc', 'kidsge6']]\n",
    "#array_ = np.array(df_kidslt6)\n",
    "arr_1_kidslt6 = np.zeros((df_mroz.shape[0], 1))\n",
    "arr_1_kidslt6[df_mroz['kidslt6'] == 1] = 1\n",
    "arr_2_kidslt6 = np.zeros((df_mroz.shape[0], 1))\n",
    "arr_2_kidslt6[df_mroz['kidslt6'] == 2] = 1\n",
    "df_kidslt6['_1_kidslt6'] = arr_1_kidslt6\n",
    "df_kidslt6['_2_kidslt6'] = arr_2_kidslt6\n",
    "#array_ = np.hstack((df_kidslt6, arr_1_kidslt6, arr_2_kidslt6))\n",
    "df_kidslt6.head()"
   ]
  },
  {
   "cell_type": "code",
   "execution_count": 55,
   "metadata": {},
   "outputs": [
    {
     "name": "stdout",
     "output_type": "stream",
     "text": [
      "   city  educ  exper   nwifeinc  kidsge6  _1_kidslt6  _2_kidslt6\n",
      "0     0    12     14  10.910060        0         1.0         0.0\n",
      "1     1    12      5  19.499980        2         0.0         0.0\n",
      "2     0    12     15  12.039910        3         1.0         0.0\n",
      "3     0    12      6   6.799996        3         0.0         0.0\n",
      "4     1    14      7  20.100060        2         1.0         0.0\n",
      "(428, 8)\n"
     ]
    }
   ],
   "source": [
    "df_kidslt6 = df_kidslt6[['city', 'educ', 'exper',\n",
    "                         'nwifeinc', 'kidsge6', '_1_kidslt6', '_2_kidslt6']]\n",
    "print(df_kidslt6.head())\n",
    "array_ = np.array(df_kidslt6)\n",
    "\n",
    "n, k = array_.shape\n",
    "X = np.hstack((np.ones((n, 1)), array_))\n",
    "n, k = X.shape\n",
    "print(X.shape)\n",
    "gram_X = np.dot(X.T, X)\n",
    "inv_gram_X = np.linalg.inv(gram_X)\n",
    "mat_X = np.dot(inv_gram_X, X.T)\n",
    "beta_lwage_kidslt6 = np.dot(mat_X, y_lwage)\n",
    "u_log_kidslt6 = y_lwage - np.dot(X, beta_lwage_kidslt6)"
   ]
  },
  {
   "cell_type": "code",
   "execution_count": 56,
   "metadata": {},
   "outputs": [
    {
     "data": {
      "text/plain": [
       "<matplotlib.legend.Legend at 0x114debe80>"
      ]
     },
     "execution_count": 56,
     "metadata": {},
     "output_type": "execute_result"
    },
    {
     "data": {
      "image/png": "[encoded data removed]",
      "text/plain": [
       "<matplotlib.figure.Figure at 0x114bbbe80>"
      ]
     },
     "metadata": {},
     "output_type": "display_data"
    }
   ],
   "source": [
    "mu_u_log_kidslt6, std_u_log_kidslt6 = norm.fit(u_log_kidslt6)\n",
    "x = np.linspace(-5, 5, 1000)\n",
    "distrib_log_kidslt6 = norm.pdf(x, mu_u_log_kidslt6, std_u_log_kidslt6)\n",
    "\n",
    "fig, axes = plt.subplots(nrows=1, ncols=1,  figsize=(18, 6))\n",
    "plt.hist(u_log_kidslt6, normed=True, bins=50, label='u_log_kidslt6')\n",
    "plt.plot(x, distrib_log_kidslt6, label='distribution normale approchée')\n",
    "plt.title(\"histogramme des log-résidus avec les variables d'intéractions\")\n",
    "plt.xlabel('log-residu')\n",
    "plt.ylabel('fréquence')\n",
    "plt.legend(loc='upper right')"
   ]
  },
  {
   "cell_type": "code",
   "execution_count": 57,
   "metadata": {},
   "outputs": [
    {
     "data": {
      "image/png": "[encoded data removed]",
      "text/plain": [
       "<matplotlib.figure.Figure at 0x1148a97f0>"
      ]
     },
     "metadata": {},
     "output_type": "display_data"
    }
   ],
   "source": [
    "fig, axes = plt.subplots(nrows=1, ncols=2, sharey=False, figsize=(18, 6))\n",
    "sns.distplot(u_log_kidslt6, ax=axes[0])\n",
    "u_log_qqplot = list(u_log_kidslt6)\n",
    "u_log_qqplot.sort()\n",
    "u_log_qqplot = np.array(u_log_qqplot)\n",
    "qqplot(u_log_qqplot, line='q', fit=True, ax=axes[1])\n",
    "\n",
    "axes[0].title.set_text('Résidus')\n",
    "axes[1].title.set_text(\n",
    "    'QQ plot de la distribution des résidus u_log_kidslt6 en fonction de la distribution normale')\n",
    "plt.show()"
   ]
  },
  {
   "cell_type": "markdown",
   "metadata": {},
   "source": [
    "On remarque que la distribution de résidus de la régression linéaire de lwage avec les variables binaires suivent aussi bien la distribution normale.\n",
    "Que ceux de la régression linéaire de lwage.\n"
   ]
  },
  {
   "cell_type": "code",
   "execution_count": 58,
   "metadata": {},
   "outputs": [
    {
     "name": "stdout",
     "output_type": "stream",
     "text": [
      "[[-0.39755039]\n",
      " [ 0.03460918]\n",
      " [ 0.10221938]\n",
      " [ 0.01543688]\n",
      " [ 0.00490326]\n",
      " [-0.01159373]\n",
      " [-0.05402964]\n",
      " [-0.06502802]]\n"
     ]
    }
   ],
   "source": [
    "print(beta_lwage_kidslt6)"
   ]
  },
  {
   "cell_type": "markdown",
   "metadata": {},
   "source": [
    "On remarque que les paramètres $\\beta$ associés aux variables binaires sont négatifs. Ceci indique qu'avoir 1 ou 2 enfants de moins de 6 ans a un impact plus négatif que de ne pas avoir d'enfant de moins de 6 ans. Cependant, nous remarquons que ces coefficients sont proches de 0. Nous allons alors faire un teste de non-significativité."
   ]
  },
  {
   "cell_type": "markdown",
   "metadata": {},
   "source": [
    "Nous allons maintenant procéder au test statistique sur l'hypothèse $H_{0}$: la variable _1_kidslt6 n'est pas significative.\n",
    "Puis, nous ferons un test sur la significativité de _2_kidslt6."
   ]
  },
  {
   "cell_type": "code",
   "execution_count": 59,
   "metadata": {},
   "outputs": [
    {
     "name": "stdout",
     "output_type": "stream",
     "text": [
      "[0.20705047 0.07017832 0.01510178 0.004487   0.00333073 0.09038225\n",
      " 0.02694439]\n",
      "Valeur de la t-statistique: [-0.49994056]\n",
      "Valeur de la t-statistique: [-0.25151058]\n",
      "Valeur de la p-value à 5% de significativité: 1.648489713050696\n"
     ]
    }
   ],
   "source": [
    "# Calcul de la standard deviation\n",
    "sig2_log_kidslt6 = np.dot(u_log_kidslt6.T, u_log_kidslt6) / (n - k)\n",
    "std_log_kidslt6 = np.sqrt(np.diag(sig2_log_kidslt6 * inv_gram_X))\n",
    "print(std_log)\n",
    "\n",
    "t_log_1kidslt6 = (beta_lwage_kidslt6[6]) / std_log_kidslt6[6]\n",
    "print('Valeur de la t-statistique: {}'.format(t_log_1kidslt6))\n",
    "\n",
    "t_log_2kidslt6 = (beta_lwage_kidslt6[7]) / std_log_kidslt6[7]\n",
    "print('Valeur de la t-statistique: {}'.format(t_log_2kidslt6))\n",
    "\n",
    "p_value = sp.stats.t.ppf(0.95, n-k)\n",
    "print('Valeur de la p-value à 5% de significativité: {}'.format(p_value))"
   ]
  },
  {
   "cell_type": "markdown",
   "metadata": {},
   "source": [
    "Nous avons donc des variables t inférieures à la p_value. Les hypothèse de non significativité ne sont donc pas refusés à 5%. Avoir 1 ou 2 enfants de moins de 6 ans n'est respectivement pas significatif par rapport à avoir aucun enfant de moins de 6 ans\n",
    "\n",
    "Nous allons maintenant faire l'hypothèse jointe $H_{0}$ : qu'avoir 1 ou 2 enfants de moins de 6 ans n'est pas significatif par rapport à avoir aucun enfant de moins de 6 ans."
   ]
  },
  {
   "cell_type": "code",
   "execution_count": 60,
   "metadata": {},
   "outputs": [
    {
     "name": "stdout",
     "output_type": "stream",
     "text": [
      "Nous avons donc une F-statistique de 0.04267501949422629\n"
     ]
    }
   ],
   "source": [
    "SSR_NC = np.dot(u_log_kidslt6.T, u_log_kidslt6)\n",
    "# Modèle Contraint (tous les coefficients des variables binaires à 0)\n",
    "df_kidslt6 = df_kidslt6[['city', 'educ', 'exper', 'nwifeinc', 'kidsge6']]\n",
    "array_ = np.array(df_kidslt6)\n",
    "X_C = np.hstack((np.ones((n, 1)), array_))\n",
    "\n",
    "gram_X_C = np.dot(X_C.T, X_C)\n",
    "inv_gram_X_C = np.linalg.inv(gram_X_C)\n",
    "mat_X_C = np.dot(inv_gram_X_C, X_C.T)\n",
    "beta_C = np.dot(mat_X_C, y_lwage)\n",
    "\n",
    "u_C = y_lwage - np.dot(X_C, beta_C)\n",
    "SSR_C = np.dot(u_C.T, u_C)\n",
    "\n",
    "q = 7  # nombre de variables dont on test\n",
    "F_stat = ((SSR_C - SSR_NC) / q) / (SSR_NC / (n - (k)))\n",
    "print(\"Nous avons donc une F-statistique de {}\".format(F_stat[0, 0]))"
   ]
  },
  {
   "cell_type": "code",
   "execution_count": 61,
   "metadata": {},
   "outputs": [
    {
     "name": "stdout",
     "output_type": "stream",
     "text": [
      "Nous avons donc une aire au-delà de la F_stat de 0.9998995182483096\n"
     ]
    }
   ],
   "source": [
    "# sc.stats.f.sf pour les test de Fischer ( t est pour les tests de Students)\n",
    "p_value = sp.stats.f.sf(F_stat, q, n - k)\n",
    "print(\n",
    "    \"Nous avons donc une aire au-delà de la F_stat de {}\".format(p_value[0, 0]))"
   ]
  },
  {
   "cell_type": "markdown",
   "metadata": {},
   "source": [
    "Nous ne pouvons donc pas refuser l'hypothèse $H_{0}$ avec une sginificativité de 5%."
   ]
  },
  {
   "cell_type": "markdown",
   "metadata": {},
   "source": [
    "## Partie 2: Series Temporelles "
   ]
  },
  {
   "cell_type": "code",
   "execution_count": 62,
   "metadata": {
    "collapsed": true
   },
   "outputs": [],
   "source": [
    "def compute_AIC(residual, X):\n",
    "    sigma2 = np.dot(np.transpose(residual),residual) / (X.shape[0]-X.shape[1])\n",
    "    return np.log(sigma2) + 2*(X.shape[1]-1)/X.shape[0]"
   ]
  },
  {
   "cell_type": "code",
   "execution_count": 63,
   "metadata": {
    "collapsed": true
   },
   "outputs": [],
   "source": [
    "def compute_OLS(X,y):\n",
    "    \"\"\"return beta and residual\"\"\"\n",
    "    beta = np.dot(np.dot(np.linalg.inv(np.dot(np.transpose(X),X)),np.transpose(X)),y)\n",
    "    residual = y - np.dot(X,beta)\n",
    "    return beta, residual"
   ]
  },
  {
   "cell_type": "code",
   "execution_count": 64,
   "metadata": {
    "collapsed": true
   },
   "outputs": [],
   "source": [
    "def compute_Fisher(X,y,beta,beta_restricted,val_fixed):\n",
    "    \"\"\"return F-stat & p-value\"\"\"\n",
    "    #compute ssr\n",
    "    ssr_r = np.sum((y - np.dot(X,beta_restricted))**2)\n",
    "    ssr_ur = np.sum((y - np.dot(X,beta))**2)\n",
    "    \n",
    "    #compute degre liberté\n",
    "    df_r = y.shape[0] - len(beta)-1-val_fixed\n",
    "    df_ur = y.shape[0] - len(beta)-1\n",
    "    dl_num = df_ur-df_r\n",
    "    \n",
    "    #compute F-stats\n",
    "    F_stat_exper = ((ssr_r-ssr_ur)/dl_num)/(ssr_ur/df_ur)\n",
    "    \n",
    "    return F_stat_exper,1 - sp.stats.f.cdf(F_stat_exper, dl_num, df_ur)"
   ]
  },
  {
   "cell_type": "markdown",
   "metadata": {},
   "source": [
    "#### 1) Importer les données du fichier quarterly.xls (corriger le problème éventuel d’observations manquantes)"
   ]
  },
  {
   "cell_type": "code",
   "execution_count": 65,
   "metadata": {},
   "outputs": [
    {
     "data": {
      "text/html": [
       "<div>\n",
       "<style>\n",
       "    .dataframe thead tr:only-child th {\n",
       "        text-align: right;\n",
       "    }\n",
       "\n",
       "    .dataframe thead th {\n",
       "        text-align: left;\n",
       "    }\n",
       "\n",
       "    .dataframe tbody tr th {\n",
       "        vertical-align: top;\n",
       "    }\n",
       "</style>\n",
       "<table border=\"1\" class=\"dataframe\">\n",
       "  <thead>\n",
       "    <tr style=\"text-align: right;\">\n",
       "      <th></th>\n",
       "      <th>DATE</th>\n",
       "      <th>FFR</th>\n",
       "      <th>Tbill</th>\n",
       "      <th>Tb1yr</th>\n",
       "      <th>r5</th>\n",
       "      <th>r10</th>\n",
       "      <th>PPINSA</th>\n",
       "      <th>Finished</th>\n",
       "      <th>CPI</th>\n",
       "      <th>CPICORE</th>\n",
       "      <th>M1NSA</th>\n",
       "      <th>M2SA</th>\n",
       "      <th>M2NSA</th>\n",
       "      <th>Unemp</th>\n",
       "      <th>IndProd</th>\n",
       "      <th>RGDP</th>\n",
       "      <th>Potent</th>\n",
       "      <th>Deflator</th>\n",
       "      <th>Curr</th>\n",
       "    </tr>\n",
       "  </thead>\n",
       "  <tbody>\n",
       "    <tr>\n",
       "      <th>0</th>\n",
       "      <td>1960Q1</td>\n",
       "      <td>3.93</td>\n",
       "      <td>3.87</td>\n",
       "      <td>4.57</td>\n",
       "      <td>4.64</td>\n",
       "      <td>4.49</td>\n",
       "      <td>31.67</td>\n",
       "      <td>33.20</td>\n",
       "      <td>29.40</td>\n",
       "      <td>18.92</td>\n",
       "      <td>140.53</td>\n",
       "      <td>896.1</td>\n",
       "      <td>299.40</td>\n",
       "      <td>5.13</td>\n",
       "      <td>23.93</td>\n",
       "      <td>2845.3</td>\n",
       "      <td>2824.2</td>\n",
       "      <td>18.521</td>\n",
       "      <td>31.830</td>\n",
       "    </tr>\n",
       "    <tr>\n",
       "      <th>1</th>\n",
       "      <td>1960Q2</td>\n",
       "      <td>3.70</td>\n",
       "      <td>2.99</td>\n",
       "      <td>3.87</td>\n",
       "      <td>4.30</td>\n",
       "      <td>4.26</td>\n",
       "      <td>31.73</td>\n",
       "      <td>33.40</td>\n",
       "      <td>29.57</td>\n",
       "      <td>19.00</td>\n",
       "      <td>138.40</td>\n",
       "      <td>903.3</td>\n",
       "      <td>300.03</td>\n",
       "      <td>5.23</td>\n",
       "      <td>23.41</td>\n",
       "      <td>2832.0</td>\n",
       "      <td>2851.2</td>\n",
       "      <td>18.579</td>\n",
       "      <td>31.862</td>\n",
       "    </tr>\n",
       "    <tr>\n",
       "      <th>2</th>\n",
       "      <td>1960Q3</td>\n",
       "      <td>2.94</td>\n",
       "      <td>2.36</td>\n",
       "      <td>3.07</td>\n",
       "      <td>3.67</td>\n",
       "      <td>3.83</td>\n",
       "      <td>31.63</td>\n",
       "      <td>33.43</td>\n",
       "      <td>29.59</td>\n",
       "      <td>19.07</td>\n",
       "      <td>139.60</td>\n",
       "      <td>919.4</td>\n",
       "      <td>305.50</td>\n",
       "      <td>5.53</td>\n",
       "      <td>23.02</td>\n",
       "      <td>2836.6</td>\n",
       "      <td>2878.7</td>\n",
       "      <td>18.648</td>\n",
       "      <td>32.217</td>\n",
       "    </tr>\n",
       "    <tr>\n",
       "      <th>3</th>\n",
       "      <td>1960Q4</td>\n",
       "      <td>2.30</td>\n",
       "      <td>2.31</td>\n",
       "      <td>2.99</td>\n",
       "      <td>3.75</td>\n",
       "      <td>3.89</td>\n",
       "      <td>31.70</td>\n",
       "      <td>33.67</td>\n",
       "      <td>29.78</td>\n",
       "      <td>19.14</td>\n",
       "      <td>142.67</td>\n",
       "      <td>932.8</td>\n",
       "      <td>312.30</td>\n",
       "      <td>6.27</td>\n",
       "      <td>22.47</td>\n",
       "      <td>2800.2</td>\n",
       "      <td>2906.7</td>\n",
       "      <td>18.700</td>\n",
       "      <td>32.624</td>\n",
       "    </tr>\n",
       "    <tr>\n",
       "      <th>4</th>\n",
       "      <td>1961Q1</td>\n",
       "      <td>2.00</td>\n",
       "      <td>2.35</td>\n",
       "      <td>2.87</td>\n",
       "      <td>3.64</td>\n",
       "      <td>3.79</td>\n",
       "      <td>31.80</td>\n",
       "      <td>33.63</td>\n",
       "      <td>29.84</td>\n",
       "      <td>19.17</td>\n",
       "      <td>142.23</td>\n",
       "      <td>948.9</td>\n",
       "      <td>317.10</td>\n",
       "      <td>6.80</td>\n",
       "      <td>22.13</td>\n",
       "      <td>2816.9</td>\n",
       "      <td>2934.8</td>\n",
       "      <td>18.743</td>\n",
       "      <td>32.073</td>\n",
       "    </tr>\n",
       "  </tbody>\n",
       "</table>\n",
       "</div>"
      ],
      "text/plain": [
       "     DATE   FFR  Tbill  Tb1yr    r5   r10  PPINSA  Finished    CPI  CPICORE  \\\n",
       "0  1960Q1  3.93   3.87   4.57  4.64  4.49   31.67     33.20  29.40    18.92   \n",
       "1  1960Q2  3.70   2.99   3.87  4.30  4.26   31.73     33.40  29.57    19.00   \n",
       "2  1960Q3  2.94   2.36   3.07  3.67  3.83   31.63     33.43  29.59    19.07   \n",
       "3  1960Q4  2.30   2.31   2.99  3.75  3.89   31.70     33.67  29.78    19.14   \n",
       "4  1961Q1  2.00   2.35   2.87  3.64  3.79   31.80     33.63  29.84    19.17   \n",
       "\n",
       "    M1NSA   M2SA   M2NSA  Unemp  IndProd    RGDP  Potent  Deflator    Curr  \n",
       "0  140.53  896.1  299.40   5.13    23.93  2845.3  2824.2    18.521  31.830  \n",
       "1  138.40  903.3  300.03   5.23    23.41  2832.0  2851.2    18.579  31.862  \n",
       "2  139.60  919.4  305.50   5.53    23.02  2836.6  2878.7    18.648  32.217  \n",
       "3  142.67  932.8  312.30   6.27    22.47  2800.2  2906.7    18.700  32.624  \n",
       "4  142.23  948.9  317.10   6.80    22.13  2816.9  2934.8    18.743  32.073  "
      ]
     },
     "execution_count": 65,
     "metadata": {},
     "output_type": "execute_result"
    }
   ],
   "source": [
    "quaterly_raw = pd.read_excel('quarterly.xls')\n",
    "quaterly_raw.head()"
   ]
  },
  {
   "cell_type": "code",
   "execution_count": 66,
   "metadata": {},
   "outputs": [
    {
     "data": {
      "text/plain": [
       "DATE        0\n",
       "FFR         0\n",
       "Tbill       0\n",
       "Tb1yr       0\n",
       "r5          0\n",
       "r10         0\n",
       "PPINSA      0\n",
       "Finished    0\n",
       "CPI         0\n",
       "CPICORE     0\n",
       "M1NSA       0\n",
       "M2SA        0\n",
       "M2NSA       0\n",
       "Unemp       0\n",
       "IndProd     0\n",
       "RGDP        0\n",
       "Potent      0\n",
       "Deflator    0\n",
       "Curr        0\n",
       "dtype: int64"
      ]
     },
     "execution_count": 66,
     "metadata": {},
     "output_type": "execute_result"
    }
   ],
   "source": [
    "#valeurs manquantes ?\n",
    "quaterly_raw.isnull().sum(axis=0)"
   ]
  },
  {
   "cell_type": "code",
   "execution_count": 67,
   "metadata": {},
   "outputs": [
    {
     "data": {
      "text/html": [
       "<div>\n",
       "<style>\n",
       "    .dataframe thead tr:only-child th {\n",
       "        text-align: right;\n",
       "    }\n",
       "\n",
       "    .dataframe thead th {\n",
       "        text-align: left;\n",
       "    }\n",
       "\n",
       "    .dataframe tbody tr th {\n",
       "        vertical-align: top;\n",
       "    }\n",
       "</style>\n",
       "<table border=\"1\" class=\"dataframe\">\n",
       "  <thead>\n",
       "    <tr style=\"text-align: right;\">\n",
       "      <th></th>\n",
       "      <th>FFR</th>\n",
       "      <th>Tbill</th>\n",
       "      <th>Tb1yr</th>\n",
       "      <th>r5</th>\n",
       "      <th>r10</th>\n",
       "      <th>PPINSA</th>\n",
       "      <th>Finished</th>\n",
       "      <th>CPI</th>\n",
       "      <th>CPICORE</th>\n",
       "      <th>M1NSA</th>\n",
       "      <th>M2SA</th>\n",
       "      <th>M2NSA</th>\n",
       "      <th>Unemp</th>\n",
       "      <th>IndProd</th>\n",
       "      <th>RGDP</th>\n",
       "      <th>Potent</th>\n",
       "      <th>Deflator</th>\n",
       "      <th>Curr</th>\n",
       "    </tr>\n",
       "    <tr>\n",
       "      <th>DATE</th>\n",
       "      <th></th>\n",
       "      <th></th>\n",
       "      <th></th>\n",
       "      <th></th>\n",
       "      <th></th>\n",
       "      <th></th>\n",
       "      <th></th>\n",
       "      <th></th>\n",
       "      <th></th>\n",
       "      <th></th>\n",
       "      <th></th>\n",
       "      <th></th>\n",
       "      <th></th>\n",
       "      <th></th>\n",
       "      <th></th>\n",
       "      <th></th>\n",
       "      <th></th>\n",
       "      <th></th>\n",
       "    </tr>\n",
       "  </thead>\n",
       "  <tbody>\n",
       "    <tr>\n",
       "      <th>1960Q1</th>\n",
       "      <td>3.93</td>\n",
       "      <td>3.87</td>\n",
       "      <td>4.57</td>\n",
       "      <td>4.64</td>\n",
       "      <td>4.49</td>\n",
       "      <td>31.67</td>\n",
       "      <td>33.20</td>\n",
       "      <td>29.40</td>\n",
       "      <td>18.92</td>\n",
       "      <td>140.53</td>\n",
       "      <td>896.1</td>\n",
       "      <td>299.40</td>\n",
       "      <td>5.13</td>\n",
       "      <td>23.93</td>\n",
       "      <td>2845.3</td>\n",
       "      <td>2824.2</td>\n",
       "      <td>18.521</td>\n",
       "      <td>31.830</td>\n",
       "    </tr>\n",
       "    <tr>\n",
       "      <th>1960Q2</th>\n",
       "      <td>3.70</td>\n",
       "      <td>2.99</td>\n",
       "      <td>3.87</td>\n",
       "      <td>4.30</td>\n",
       "      <td>4.26</td>\n",
       "      <td>31.73</td>\n",
       "      <td>33.40</td>\n",
       "      <td>29.57</td>\n",
       "      <td>19.00</td>\n",
       "      <td>138.40</td>\n",
       "      <td>903.3</td>\n",
       "      <td>300.03</td>\n",
       "      <td>5.23</td>\n",
       "      <td>23.41</td>\n",
       "      <td>2832.0</td>\n",
       "      <td>2851.2</td>\n",
       "      <td>18.579</td>\n",
       "      <td>31.862</td>\n",
       "    </tr>\n",
       "    <tr>\n",
       "      <th>1960Q3</th>\n",
       "      <td>2.94</td>\n",
       "      <td>2.36</td>\n",
       "      <td>3.07</td>\n",
       "      <td>3.67</td>\n",
       "      <td>3.83</td>\n",
       "      <td>31.63</td>\n",
       "      <td>33.43</td>\n",
       "      <td>29.59</td>\n",
       "      <td>19.07</td>\n",
       "      <td>139.60</td>\n",
       "      <td>919.4</td>\n",
       "      <td>305.50</td>\n",
       "      <td>5.53</td>\n",
       "      <td>23.02</td>\n",
       "      <td>2836.6</td>\n",
       "      <td>2878.7</td>\n",
       "      <td>18.648</td>\n",
       "      <td>32.217</td>\n",
       "    </tr>\n",
       "    <tr>\n",
       "      <th>1960Q4</th>\n",
       "      <td>2.30</td>\n",
       "      <td>2.31</td>\n",
       "      <td>2.99</td>\n",
       "      <td>3.75</td>\n",
       "      <td>3.89</td>\n",
       "      <td>31.70</td>\n",
       "      <td>33.67</td>\n",
       "      <td>29.78</td>\n",
       "      <td>19.14</td>\n",
       "      <td>142.67</td>\n",
       "      <td>932.8</td>\n",
       "      <td>312.30</td>\n",
       "      <td>6.27</td>\n",
       "      <td>22.47</td>\n",
       "      <td>2800.2</td>\n",
       "      <td>2906.7</td>\n",
       "      <td>18.700</td>\n",
       "      <td>32.624</td>\n",
       "    </tr>\n",
       "    <tr>\n",
       "      <th>1961Q1</th>\n",
       "      <td>2.00</td>\n",
       "      <td>2.35</td>\n",
       "      <td>2.87</td>\n",
       "      <td>3.64</td>\n",
       "      <td>3.79</td>\n",
       "      <td>31.80</td>\n",
       "      <td>33.63</td>\n",
       "      <td>29.84</td>\n",
       "      <td>19.17</td>\n",
       "      <td>142.23</td>\n",
       "      <td>948.9</td>\n",
       "      <td>317.10</td>\n",
       "      <td>6.80</td>\n",
       "      <td>22.13</td>\n",
       "      <td>2816.9</td>\n",
       "      <td>2934.8</td>\n",
       "      <td>18.743</td>\n",
       "      <td>32.073</td>\n",
       "    </tr>\n",
       "  </tbody>\n",
       "</table>\n",
       "</div>"
      ],
      "text/plain": [
       "         FFR  Tbill  Tb1yr    r5   r10  PPINSA  Finished    CPI  CPICORE  \\\n",
       "DATE                                                                       \n",
       "1960Q1  3.93   3.87   4.57  4.64  4.49   31.67     33.20  29.40    18.92   \n",
       "1960Q2  3.70   2.99   3.87  4.30  4.26   31.73     33.40  29.57    19.00   \n",
       "1960Q3  2.94   2.36   3.07  3.67  3.83   31.63     33.43  29.59    19.07   \n",
       "1960Q4  2.30   2.31   2.99  3.75  3.89   31.70     33.67  29.78    19.14   \n",
       "1961Q1  2.00   2.35   2.87  3.64  3.79   31.80     33.63  29.84    19.17   \n",
       "\n",
       "         M1NSA   M2SA   M2NSA  Unemp  IndProd    RGDP  Potent  Deflator  \\\n",
       "DATE                                                                      \n",
       "1960Q1  140.53  896.1  299.40   5.13    23.93  2845.3  2824.2    18.521   \n",
       "1960Q2  138.40  903.3  300.03   5.23    23.41  2832.0  2851.2    18.579   \n",
       "1960Q3  139.60  919.4  305.50   5.53    23.02  2836.6  2878.7    18.648   \n",
       "1960Q4  142.67  932.8  312.30   6.27    22.47  2800.2  2906.7    18.700   \n",
       "1961Q1  142.23  948.9  317.10   6.80    22.13  2816.9  2934.8    18.743   \n",
       "\n",
       "          Curr  \n",
       "DATE            \n",
       "1960Q1  31.830  \n",
       "1960Q2  31.862  \n",
       "1960Q3  32.217  \n",
       "1960Q4  32.624  \n",
       "1961Q1  32.073  "
      ]
     },
     "execution_count": 67,
     "metadata": {},
     "output_type": "execute_result"
    }
   ],
   "source": [
    "quaterly_raw.set_index(\"DATE\",inplace=True)\n",
    "quaterly_raw.head()"
   ]
  },
  {
   "cell_type": "markdown",
   "metadata": {},
   "source": [
    "#### 2) Calculer inf, le taux d’inflation à partir de la variable CPI. Faire un graphique dans le temps de inf. Commentez."
   ]
  },
  {
   "cell_type": "code",
   "execution_count": 68,
   "metadata": {
    "collapsed": true
   },
   "outputs": [],
   "source": [
    "inf = np.zeros(quaterly_raw['CPI'].shape[0]-1)\n",
    "for i,elt in enumerate(quaterly_raw['CPI']):\n",
    "    if i<quaterly_raw['CPI'].shape[0]-1:\n",
    "        inf[i] = 100*((quaterly_raw['CPI'][i+1] - quaterly_raw['CPI'][i]) / quaterly_raw['CPI'][i])"
   ]
  },
  {
   "cell_type": "code",
   "execution_count": 69,
   "metadata": {},
   "outputs": [
    {
     "data": {
      "image/png": "[encoded data removed]",
      "text/plain": [
       "<matplotlib.figure.Figure at 0x1154e2630>"
      ]
     },
     "metadata": {},
     "output_type": "display_data"
    }
   ],
   "source": [
    "#plot evolution taux d'inflation\n",
    "fig, ax = plt.subplots(figsize=(10,10))\n",
    "ax.plot(inf)\n",
    "ax.set_title(\"Evolution de l'inflation de CPI\")\n",
    "ax.set_xlabel(\"Periode\")\n",
    "ax.set_ylabel(\"Inflation (periode precedente en ref)\")\n",
    "plt.xticks([0,50,100,150,200],[quaterly_raw.index.tolist()[i] for i in [0,50,100,150,200]])\n",
    "fig.show()"
   ]
  },
  {
   "cell_type": "markdown",
   "metadata": {},
   "source": [
    "On est sur une tendance croissante jusqu'avant 1985, puis il y a une chute brutale menant sur une tendance plutot constante. Au vue du changement de tendance et des variations irrégulières, les propriétés statistiques de la série : moyenne, variance ne sont pas constante quelque soit les périodes observées, elle ne serait pas stationnaire.\n"
   ]
  },
  {
   "cell_type": "markdown",
   "metadata": {},
   "source": [
    "#### 3) Interpréter l'autocorrélogramme et l'autocorrélogrammes partiels de inf. Quelle est la différence entre ces deux graphiques ?"
   ]
  },
  {
   "cell_type": "code",
   "execution_count": 70,
   "metadata": {},
   "outputs": [
    {
     "data": {
      "image/png": "[encoded data removed]",
      "text/plain": [
       "<matplotlib.figure.Figure at 0x1152038d0>"
      ]
     },
     "metadata": {},
     "output_type": "display_data"
    }
   ],
   "source": [
    "import pylab as pl\n",
    "import statsmodels.api as sm\n",
    "fig, axes = pl.subplots(2,1, figsize=(15,10))\n",
    "fig.subplots_adjust(hspace=0.5)\n",
    "fig=sm.graphics.tsa.plot_acf(inf,ax=axes[0])\n",
    "axes[0].set_title(\"Autocorrelogramme de Inf\")\n",
    "fig=sm.graphics.tsa.plot_pacf(inf, ax=axes[1])\n",
    "axes[1].set_title(\"Autocorrelogramme partiel de Inf\")\n",
    "plt.show()"
   ]
  },
  {
   "cell_type": "markdown",
   "metadata": {},
   "source": [
    "L'ACF mesure à quel point une série est corrélée à ses différents lags : corrélation entre l'instant t et le retard d'ordre k (t-k). \n",
    "\n",
    "La PACF mesure la corrélation partielle entre la série et ses lags, partielle, car on observe la corrélation d'ordre k entre z_t et z_t-k en retirant la corrélation induite par la propagation des corrélations entre lags de petits ordres. En effet la corrélation d'ordre 1 entre z_t et z_t-1 prend part dans la corrélation d'ordre k entre z_t et z_t-k par effet de propagation.\n",
    "Ainsi la PACF nous indique que si un petit nombre p de coefficients partiels sont plus siginficatis que ceux d'ordre supérieur alors les AR d'ordre supérieur à p sont majoritairement expliqué par l'AR(p).\n",
    "\n",
    "On utilise ces deux fonctions pour décider de la modélisation à adopter : AR, MA, ARMA :\n",
    "    - MA : PACF decroissante et nb de retards avec ACF\n",
    "    - AR : ACF decroissante et nb de retards avec PACF\n",
    "    - ARMA : aucun des deux comportements précédents"
   ]
  },
  {
   "cell_type": "markdown",
   "metadata": {},
   "source": [
    "#### 4) Proposer une modélisation AR(p) de inf, en utilisant tous les outils vus au cours."
   ]
  },
  {
   "cell_type": "markdown",
   "metadata": {},
   "source": [
    "Avant de proposer une modélisation intéressons nous à la stationnarité de la série"
   ]
  },
  {
   "cell_type": "code",
   "execution_count": 71,
   "metadata": {
    "collapsed": true
   },
   "outputs": [],
   "source": [
    "#create lags\n",
    "inf1 = np.zeros(inf.shape[0]-5)\n",
    "inf2 = np.zeros(inf.shape[0]-5)\n",
    "inf3 = np.zeros(inf.shape[0]-5)\n",
    "inf4 = np.zeros(inf.shape[0]-5)\n",
    "\n",
    "inf1 = inf[4:-1]\n",
    "inf2 = inf[3:-2]\n",
    "inf3 = inf[2:-3]\n",
    "inf4 = inf[1:-4]\n",
    "inf5 = inf[:-5]\n",
    "inf = inf[5:]"
   ]
  },
  {
   "cell_type": "code",
   "execution_count": 72,
   "metadata": {},
   "outputs": [
    {
     "name": "stdout",
     "output_type": "stream",
     "text": [
      "test stats: -3.28842390705868\n",
      "p-value: 0.06817754623869363\n",
      "Critical Values:\n",
      "\t1%: -4.004\n",
      "\t5%: -3.432\n",
      "\t10%: -3.140\n"
     ]
    }
   ],
   "source": [
    "import statsmodels.tsa.stattools as ts\n",
    "\n",
    "unit_test = ts.adfuller(inf, regression=\"ct\", autolag = 'AIC')\n",
    "print(\"test stats: {0}\".format(unit_test[0]))\n",
    "print(\"p-value: {0}\".format(unit_test[1]))\n",
    "print('Critical Values:')\n",
    "for key, value in unit_test[4].items():\n",
    "    print('\\t%s: %.3f' % (key, value))"
   ]
  },
  {
   "cell_type": "markdown",
   "metadata": {},
   "source": [
    "$y_t = \\alpha + \\rho*y_{t-1} +e_t $ \n",
    "\n",
    "H0 : la série possède une racine unitaire $\\rho=1 $ , elle est non stationnaire \n",
    "\n",
    "On ne rejette pas H0 avec un risque de première espace à 10% et 5% (test unilatéral cas $\\rho>1 $ non considéré) : la série possède  une racine unitaire, elle est donc non stationnaire. Essayons de nouveau en différenciant la série"
   ]
  },
  {
   "cell_type": "code",
   "execution_count": 73,
   "metadata": {},
   "outputs": [
    {
     "name": "stdout",
     "output_type": "stream",
     "text": [
      "test stats: -9.80652577895252\n",
      "p-value: 5.975767140925475e-15\n",
      "lag: 3\n",
      "Critical Values:\n",
      "\t1%: -4.004\n",
      "\t5%: -3.432\n",
      "\t10%: -3.140\n"
     ]
    }
   ],
   "source": [
    "import statsmodels.tsa.stattools as ts\n",
    "\n",
    "unit_test = ts.adfuller(inf-inf1, regression=\"ct\", autolag = 'AIC')\n",
    "print(\"test stats: {0}\".format(unit_test[0]))\n",
    "print(\"p-value: {0}\".format(unit_test[1]))\n",
    "print(\"lag: {0}\".format(unit_test[2]))\n",
    "print('Critical Values:')\n",
    "for key, value in unit_test[4].items():\n",
    "    print('\\t%s: %.3f' % (key, value))"
   ]
  },
  {
   "cell_type": "markdown",
   "metadata": {},
   "source": [
    "On rejette H0 à 1% la série différenciée inf-inf1 n'a pas de racine unitaire, on en déduit que la série différenciée est stationnaire. Le modèle propose un modèle à trois lags : AR(3)"
   ]
  },
  {
   "cell_type": "code",
   "execution_count": 74,
   "metadata": {},
   "outputs": [
    {
     "data": {
      "image/png": "[encoded data removed]",
      "text/plain": [
       "<matplotlib.figure.Figure at 0x11524a080>"
      ]
     },
     "metadata": {},
     "output_type": "display_data"
    }
   ],
   "source": [
    "#plot evolution taux d'inflation\n",
    "fig, ax = plt.subplots(figsize=(10,10))\n",
    "ax.plot(inf-inf1)\n",
    "ax.set_title(\"Différenciation de la série temp\")\n",
    "ax.set_xlabel(\"Periode\")\n",
    "ax.set_ylabel(\"Delta inflation\")\n",
    "plt.xticks([0,50,100,150,200],[quaterly_raw.index.tolist()[i] for i in [0,50,100,150,200]])\n",
    "fig.show()"
   ]
  },
  {
   "cell_type": "markdown",
   "metadata": {},
   "source": [
    "Au vue des courbes ACF et PACF, l'intuition est de partir sur une modélisation avec 3 retards maximum. Il semblerait qu'une AR(3) puisse convenir c'est le dernier qui a une corr partielle au dessus de 0.2. Vérifions ces intuitions avec le calcul de l'AIC pour AR(1), AR(2), AR(3), AR(4)."
   ]
  },
  {
   "cell_type": "markdown",
   "metadata": {},
   "source": [
    "#### 5) Estimer le modèle de la courbe de Philips qui explique le taux de chômage (Unemp) en fonction du taux d’inflation et une constante."
   ]
  },
  {
   "cell_type": "markdown",
   "metadata": {},
   "source": [
    "On considère ici un modèle simple sans lag sur le taux d'inflation, il faut au préalable stationariser la serie unemp. On utilisera les deux séries stationnarisées : unemp et inflation"
   ]
  },
  {
   "cell_type": "code",
   "execution_count": 75,
   "metadata": {
    "collapsed": true
   },
   "outputs": [],
   "source": [
    "y_unemp = quaterly_raw['Unemp'][6:].values"
   ]
  },
  {
   "cell_type": "code",
   "execution_count": 76,
   "metadata": {},
   "outputs": [
    {
     "name": "stdout",
     "output_type": "stream",
     "text": [
      "test stats: -2.663433763171082\n",
      "p-value: 0.25157654645202165\n",
      "Critical Values:\n",
      "\t1%: -4.006\n",
      "\t5%: -3.433\n",
      "\t10%: -3.140\n"
     ]
    }
   ],
   "source": [
    "#test stationnariser unemp\n",
    "unit_test = ts.adfuller(y_unemp, regression=\"ct\", autolag = 'AIC')\n",
    "print(\"test stats: {0}\".format(unit_test[0]))\n",
    "print(\"p-value: {0}\".format(unit_test[1]))\n",
    "print('Critical Values:')\n",
    "for key, value in unit_test[4].items():\n",
    "    print('\\t%s: %.3f' % (key, value))"
   ]
  },
  {
   "cell_type": "markdown",
   "metadata": {},
   "source": [
    "On ne rejette pas H0 la serie temporelle unemp n'est pas stationnaire à 10%. Essayons de la différencier."
   ]
  },
  {
   "cell_type": "code",
   "execution_count": 77,
   "metadata": {},
   "outputs": [
    {
     "name": "stdout",
     "output_type": "stream",
     "text": [
      "test stats: -5.219627391560942\n",
      "p-value: 8.041069448947611e-05\n",
      "Critical Values:\n",
      "\t1%: -4.006\n",
      "\t5%: -3.433\n",
      "\t10%: -3.140\n"
     ]
    }
   ],
   "source": [
    "#X_inf y_unemp def\n",
    "X_inf = np.hstack((np.ones(inf.shape[0]).reshape(-1,1),(inf-inf1).reshape(-1,1)))\n",
    "y_unemp = quaterly_raw['Unemp'][6:].values - quaterly_raw['Unemp'][5:-1].values \n",
    "\n",
    "#test stationnariser unemp\n",
    "unit_test = ts.adfuller(y_unemp, regression=\"ct\", autolag = 'AIC')\n",
    "print(\"test stats: {0}\".format(unit_test[0]))\n",
    "print(\"p-value: {0}\".format(unit_test[1]))\n",
    "print('Critical Values:')\n",
    "for key, value in unit_test[4].items():\n",
    "    print('\\t%s: %.3f' % (key, value))"
   ]
  },
  {
   "cell_type": "markdown",
   "metadata": {},
   "source": [
    "On rejette H0 à 1% la série différenciée est stationnaire."
   ]
  },
  {
   "cell_type": "code",
   "execution_count": 78,
   "metadata": {},
   "outputs": [
    {
     "data": {
      "text/html": [
       "<div>\n",
       "<style>\n",
       "    .dataframe thead tr:only-child th {\n",
       "        text-align: right;\n",
       "    }\n",
       "\n",
       "    .dataframe thead th {\n",
       "        text-align: left;\n",
       "    }\n",
       "\n",
       "    .dataframe tbody tr th {\n",
       "        vertical-align: top;\n",
       "    }\n",
       "</style>\n",
       "<table border=\"1\" class=\"dataframe\">\n",
       "  <thead>\n",
       "    <tr style=\"text-align: right;\">\n",
       "      <th></th>\n",
       "      <th>coeff</th>\n",
       "    </tr>\n",
       "  </thead>\n",
       "  <tbody>\n",
       "    <tr>\n",
       "      <th>cste</th>\n",
       "      <td>0.004311</td>\n",
       "    </tr>\n",
       "    <tr>\n",
       "      <th>inf</th>\n",
       "      <td>-0.100620</td>\n",
       "    </tr>\n",
       "  </tbody>\n",
       "</table>\n",
       "</div>"
      ],
      "text/plain": [
       "         coeff\n",
       "cste  0.004311\n",
       "inf  -0.100620"
      ]
     },
     "execution_count": 78,
     "metadata": {},
     "output_type": "execute_result"
    }
   ],
   "source": [
    "#OLS\n",
    "beta_25,_ = compute_OLS(X_inf,y_unemp)\n",
    "pd.DataFrame(beta_25,index=[\"cste\",'inf'],columns=[\"coeff\"])"
   ]
  },
  {
   "cell_type": "code",
   "execution_count": 79,
   "metadata": {},
   "outputs": [
    {
     "data": {
      "image/png": "[encoded data removed]",
      "text/plain": [
       "<matplotlib.figure.Figure at 0x11525aa20>"
      ]
     },
     "metadata": {},
     "output_type": "display_data"
    }
   ],
   "source": [
    "#plot\n",
    "fig,ax = plt.subplots(figsize=(8,8))\n",
    "ax.plot(inf,y_unemp,'o')\n",
    "ax.plot(inf,beta_25[0]+inf*beta_25[1])\n",
    "ax.set_ylabel(\"Delta Unemp\")\n",
    "ax.set_xlabel(\"Delta inflation\")\n",
    "ax.legend([\"y_unemp\",\"y_pred\"])\n",
    "#plt.xticks([0,50,100,150,200],[quaterly_raw.index.tolist()[i] for i in [6,56,106,156,206]])\n",
    "plt.show()"
   ]
  },
  {
   "cell_type": "markdown",
   "metadata": {},
   "source": [
    "#### 6) Tester l’autocorrélation des erreurs."
   ]
  },
  {
   "cell_type": "code",
   "execution_count": 80,
   "metadata": {
    "collapsed": true
   },
   "outputs": [],
   "source": [
    "#calcul des residus\n",
    "residual_25 = y_unemp - np.dot(X_inf,beta_25)"
   ]
  },
  {
   "cell_type": "markdown",
   "metadata": {},
   "source": [
    "Faisons la regression de u_t sur u_t-1, on effectue la regression suivante $u_t = \\rho* u_{t-1} + e$"
   ]
  },
  {
   "cell_type": "code",
   "execution_count": 81,
   "metadata": {
    "collapsed": true
   },
   "outputs": [],
   "source": [
    "#OLS residual on residual lag1\n",
    "residual_25_lag1 = np.zeros(residual_25.shape[0])\n",
    "residual_25_lag1[1:] = residual_25[:-1]\n",
    "X_residual_25_lag1 = residual_25_lag1.reshape(-1,1)\n",
    "ro_residual_25_lag1,_ = compute_OLS(X_residual_25_lag1,residual_25)"
   ]
  },
  {
   "cell_type": "code",
   "execution_count": 83,
   "metadata": {},
   "outputs": [
    {
     "name": "stdout",
     "output_type": "stream",
     "text": [
      "valeur de rho : 0.6311721896678755\n"
     ]
    }
   ],
   "source": [
    "print(\"valeur de rho : {}\".format(ro_residual_25_lag1[0]))"
   ]
  },
  {
   "cell_type": "markdown",
   "metadata": {},
   "source": [
    "Testons la non significativité du coefficient associé au lag d'ordre 1, H0: $\\rho$ = 0 :"
   ]
  },
  {
   "cell_type": "code",
   "execution_count": 84,
   "metadata": {},
   "outputs": [
    {
     "data": {
      "text/plain": [
       "array([11.63345069])"
      ]
     },
     "execution_count": 84,
     "metadata": {},
     "output_type": "execute_result"
    }
   ],
   "source": [
    "residual_residual = residual_25 - np.dot(X_residual_25_lag1,ro_residual_25_lag1)\n",
    "sig2_residual_residual = np.dot(np.transpose(residual_residual.reshape(-1,1)),residual_residual.reshape(-1,1))/(X_residual_25_lag1.shape[0]-1)\n",
    "std_residual_residual = np.sqrt(np.diag(sig2_residual_residual*np.linalg.inv(np.dot(np.transpose(X_residual_25_lag1.reshape(-1,1)),X_residual_25_lag1.reshape(-1,1)))))\n",
    "\n",
    "t_residual_residual = ro_residual_25_lag1/std_residual_residual\n",
    "t_residual_residual\n",
    "                               \n",
    "                                "
   ]
  },
  {
   "cell_type": "code",
   "execution_count": 85,
   "metadata": {},
   "outputs": [
    {
     "name": "stdout",
     "output_type": "stream",
     "text": [
      "2.600024105383646\n"
     ]
    }
   ],
   "source": [
    "p_value = sp.stats.t.ppf(0.995, X_residual_25_lag1.shape[0] - 1)\n",
    "print(p_value)"
   ]
  },
  {
   "cell_type": "markdown",
   "metadata": {},
   "source": [
    "On rejette H0 à 1% de risque de première espèce (test bilateral), il y a autocorrélation des erreurs."
   ]
  },
  {
   "cell_type": "markdown",
   "metadata": {},
   "source": [
    "#### 7) Corriger l’autocorrélation des erreurs par la méthode vue en cours."
   ]
  },
  {
   "cell_type": "markdown",
   "metadata": {},
   "source": [
    "Correction par les MCG : $y_{t} - \\rho*y_{t-1}$ à t=1 $\\sqrt{1-\\rho^2*y_1}$\n",
    "même chose pour X"
   ]
  },
  {
   "cell_type": "code",
   "execution_count": 86,
   "metadata": {
    "collapsed": true
   },
   "outputs": [],
   "source": [
    "#compute new y from 1 to n\n",
    "y_part = np.array([y_unemp[i]-ro_residual_25_lag1*y_unemp[i-1] for i in range(1,y_unemp.shape[0])])\n",
    "\n",
    "#compute new X from 1 to n\n",
    "X_part = np.zeros((X_inf.shape[0]-1,X_inf.shape[1]))\n",
    "for i in range(1,X_inf.shape[0]):\n",
    "    X_part[i-1] = X_inf[i] - ro_residual_25_lag1*X_inf[i-1]\n",
    "\n",
    "#mcg correction\n",
    "new_y = np.vstack((np.sqrt(1-ro_residual_25_lag1**2)*y_unemp[0].reshape(-1,1),y_part.reshape(-1,1)))\n",
    "new_X_inf = np.vstack((np.transpose((np.sqrt(1-ro_residual_25_lag1**2)*X_inf[0]).reshape(-1,1)),X_part))"
   ]
  },
  {
   "cell_type": "code",
   "execution_count": 87,
   "metadata": {},
   "outputs": [
    {
     "name": "stdout",
     "output_type": "stream",
     "text": [
      "[[ 0.00062567]\n",
      " [-0.0270679 ]]\n"
     ]
    }
   ],
   "source": [
    "#let's apply MCO to the new model\n",
    "beta_new, _ = compute_OLS(new_X_inf,new_y)\n",
    "print(beta_new)"
   ]
  },
  {
   "cell_type": "code",
   "execution_count": 88,
   "metadata": {},
   "outputs": [
    {
     "data": {
      "text/plain": [
       "array([0.04612099])"
      ]
     },
     "execution_count": 88,
     "metadata": {},
     "output_type": "execute_result"
    }
   ],
   "source": [
    "#calcul des residus\n",
    "residual_new = new_y.reshape(-1) - np.dot(new_X_inf,beta_new).reshape(-1)\n",
    "\n",
    "#OLS residual on residual lag1\n",
    "residual_new_lag1 = np.zeros(residual_new.shape[0])\n",
    "residual_new_lag1[1:] = residual_new[:-1]\n",
    "X_residual_new_lag1 = residual_new_lag1.reshape(-1,1)\n",
    "ro_residual_new_lag1,_ = compute_OLS(X_residual_new_lag1,residual_new)\n",
    "ro_residual_new_lag1"
   ]
  },
  {
   "cell_type": "markdown",
   "metadata": {},
   "source": [
    "On constate que rho est divisé par un facteur ~10, la correction MCG est effective. "
   ]
  },
  {
   "cell_type": "markdown",
   "metadata": {},
   "source": [
    "#### 8) Tester la stabilité de la relation chômage-inflation sur deux sous-périodes de taille identique."
   ]
  },
  {
   "cell_type": "markdown",
   "metadata": {},
   "source": [
    "Test changement de structure : considérons deux sous périodes de .. observations|trimestres"
   ]
  },
  {
   "cell_type": "code",
   "execution_count": 89,
   "metadata": {},
   "outputs": [],
   "source": [
    "X_part_1 = X_inf[:100]\n",
    "y_part_1 = y_unemp[:100]\n",
    "\n",
    "X_part_2 = X_inf[100:200]\n",
    "y_part_2 = y_unemp[100:200]"
   ]
  },
  {
   "cell_type": "markdown",
   "metadata": {},
   "source": [
    "Effectuons un test de changement de structure du chomâge en fonction de l'inflation"
   ]
  },
  {
   "cell_type": "code",
   "execution_count": 90,
   "metadata": {},
   "outputs": [
    {
     "name": "stdout",
     "output_type": "stream",
     "text": [
      "coeff partie 1 : [ 0.00045492 -0.27106835]\n",
      "coeff partie 2 : [ 0.01865703 -0.00348421]\n"
     ]
    }
   ],
   "source": [
    "#compute ols for each par\n",
    "beta_part_1,_ = compute_OLS(X_part_1,y_part_1)\n",
    "beta_part_2,_ = compute_OLS(X_part_2,y_part_2)\n",
    "print(\"coeff partie 1 : {}\".format(beta_part_1))\n",
    "print(\"coeff partie 2 : {}\".format(beta_part_2))"
   ]
  },
  {
   "cell_type": "code",
   "execution_count": 91,
   "metadata": {},
   "outputs": [
    {
     "data": {
      "image/png": "[encoded data removed]",
      "text/plain": [
       "<matplotlib.figure.Figure at 0x115a7cda0>"
      ]
     },
     "metadata": {},
     "output_type": "display_data"
    }
   ],
   "source": [
    "#plot real curve vs prediction on each part\n",
    "fig,ax = plt.subplots(figsize=(8,8))\n",
    "ax.plot(y_unemp)\n",
    "ax.plot(range(0,100),beta_part_1[0]+X_part_1[:,1]*beta_part_1[1])\n",
    "ax.plot(range(100,200),beta_part_2[0]+X_part_2[:,1]*beta_part_2[1])\n",
    "ax.set_ylabel(\"Unemp\")\n",
    "ax.legend([\"y_unemp\",\"y_pred_1\",\"y_pred_2\"])\n",
    "plt.xticks([0,50,100,150,200],[quaterly_raw.index.tolist()[i] for i in [6,56,106,156,206]])\n",
    "plt.show()"
   ]
  },
  {
   "cell_type": "markdown",
   "metadata": {},
   "source": [
    "On peut constater que le coefficent associé à l'inflation pour expliquer le chomage est complètement différent d'une période à l'autre, il y a à priori un changement de structure. Nous pourrions confirmer cela à l'aide d'un test statistique : H0 -> les coefficients sont égaux sur les deux périodes \n",
    "<=> $y_t = (\\beta_0 + \\gamma_0*D_\\tau) + (\\beta_1 + \\gamma_1*D\\tau)*inf$, avec Dt = 0 pour les 100 premières periodes, Dt = 1 pour les 100 dernières. Si les gamma_i = 0 alors on n'a pas de changement de structure. \n",
    "\n",
    "Ici on test donc pour to=103 periodes ce qui correspond au Q3 de 1986, H0: gamma_i=0 pour tout i"
   ]
  },
  {
   "cell_type": "code",
   "execution_count": 92,
   "metadata": {},
   "outputs": [
    {
     "data": {
      "text/html": [
       "<div>\n",
       "<style>\n",
       "    .dataframe thead tr:only-child th {\n",
       "        text-align: right;\n",
       "    }\n",
       "\n",
       "    .dataframe thead th {\n",
       "        text-align: left;\n",
       "    }\n",
       "\n",
       "    .dataframe tbody tr th {\n",
       "        vertical-align: top;\n",
       "    }\n",
       "</style>\n",
       "<table border=\"1\" class=\"dataframe\">\n",
       "  <thead>\n",
       "    <tr style=\"text-align: right;\">\n",
       "      <th></th>\n",
       "      <th>coeff</th>\n",
       "    </tr>\n",
       "  </thead>\n",
       "  <tbody>\n",
       "    <tr>\n",
       "      <th>cste</th>\n",
       "      <td>-0.160866</td>\n",
       "    </tr>\n",
       "    <tr>\n",
       "      <th>gamma_0.cste</th>\n",
       "      <td>0.286084</td>\n",
       "    </tr>\n",
       "    <tr>\n",
       "      <th>inf</th>\n",
       "      <td>0.124244</td>\n",
       "    </tr>\n",
       "    <tr>\n",
       "      <th>gamma_1.inf</th>\n",
       "      <td>-0.271012</td>\n",
       "    </tr>\n",
       "  </tbody>\n",
       "</table>\n",
       "</div>"
      ],
      "text/plain": [
       "                 coeff\n",
       "cste         -0.160866\n",
       "gamma_0.cste  0.286084\n",
       "inf           0.124244\n",
       "gamma_1.inf  -0.271012"
      ]
     },
     "execution_count": 92,
     "metadata": {},
     "output_type": "execute_result"
    }
   ],
   "source": [
    "D_to = np.zeros(200)\n",
    "D_to[100:] = 1\n",
    "\n",
    "X_test_8 = np.transpose(np.vstack((np.ones(200),D_to,inf[:200],D_to*inf[:200])))\n",
    "beta_test,_ = compute_OLS(X_test_8,y_unemp[:200])\n",
    "pd.DataFrame(beta_test,index=[\"cste\",\"gamma_0.cste\",\"inf\",\"gamma_1.inf\"],columns=[\"coeff\"])"
   ]
  },
  {
   "cell_type": "code",
   "execution_count": 93,
   "metadata": {},
   "outputs": [
    {
     "name": "stdout",
     "output_type": "stream",
     "text": [
      "proba d'être au dessus de la F-stat calculée : 1.5068255699857147e-06\n"
     ]
    }
   ],
   "source": [
    "#let's test  gamma_1 =0\n",
    "beta_test_restricted = beta_test.copy()\n",
    "beta_test_restricted[[1,3]] = 0\n",
    "F_stat,p_val = compute_Fisher(X_test_8,y_unemp[:200],beta_test,beta_test_restricted,1)\n",
    "#1-Proba d'être en dessous de la F-stats\n",
    "print(\"proba d'être au dessus de la F-stat calculée : {}\".format(p_val))"
   ]
  },
  {
   "cell_type": "markdown",
   "metadata": {},
   "source": [
    "Dans le cadre d'un test bilatéral (considérant que les gamma_i peuvent être positif ou négatif)  on rejette H_0 avec un risque de 1%. On peut donc considérer un changement de structure au Q3 1986. En observant la courbe on peut déduire que ce changement de structure est principalement causé par la période 1970-1980, période riche en variations par rapport aux autres."
   ]
  },
  {
   "cell_type": "markdown",
   "metadata": {},
   "source": [
    "#### 9) Estimer la courbe de Philips en ajoutant les délais d’ordre 1, 2, 3 et 4 de l’inflation. Faire le test de Granger de non causalité de l’inflation sur le chômage. Donnez la p-valeur"
   ]
  },
  {
   "cell_type": "code",
   "execution_count": 94,
   "metadata": {},
   "outputs": [
    {
     "data": {
      "text/html": [
       "<div>\n",
       "<style>\n",
       "    .dataframe thead tr:only-child th {\n",
       "        text-align: right;\n",
       "    }\n",
       "\n",
       "    .dataframe thead th {\n",
       "        text-align: left;\n",
       "    }\n",
       "\n",
       "    .dataframe tbody tr th {\n",
       "        vertical-align: top;\n",
       "    }\n",
       "</style>\n",
       "<table border=\"1\" class=\"dataframe\">\n",
       "  <thead>\n",
       "    <tr style=\"text-align: right;\">\n",
       "      <th></th>\n",
       "      <th>coeff</th>\n",
       "    </tr>\n",
       "  </thead>\n",
       "  <tbody>\n",
       "    <tr>\n",
       "      <th>cste</th>\n",
       "      <td>0.004549</td>\n",
       "    </tr>\n",
       "    <tr>\n",
       "      <th>inf_diff</th>\n",
       "      <td>-0.166801</td>\n",
       "    </tr>\n",
       "    <tr>\n",
       "      <th>lag1</th>\n",
       "      <td>-0.140475</td>\n",
       "    </tr>\n",
       "    <tr>\n",
       "      <th>lag2</th>\n",
       "      <td>-0.149819</td>\n",
       "    </tr>\n",
       "    <tr>\n",
       "      <th>lag3</th>\n",
       "      <td>-0.046722</td>\n",
       "    </tr>\n",
       "    <tr>\n",
       "      <th>lag4</th>\n",
       "      <td>0.005916</td>\n",
       "    </tr>\n",
       "  </tbody>\n",
       "</table>\n",
       "</div>"
      ],
      "text/plain": [
       "             coeff\n",
       "cste      0.004549\n",
       "inf_diff -0.166801\n",
       "lag1     -0.140475\n",
       "lag2     -0.149819\n",
       "lag3     -0.046722\n",
       "lag4      0.005916"
      ]
     },
     "execution_count": 94,
     "metadata": {},
     "output_type": "execute_result"
    }
   ],
   "source": [
    "X_inf_lag4 = np.transpose(np.vstack((np.ones(inf.shape[0]),inf-inf1,inf1-inf2,inf2-inf3,inf3-inf4,inf4-inf5)))\n",
    "beta_lag4,_ = compute_OLS(X_inf_lag4,y_unemp)\n",
    "pd.DataFrame(beta_lag4, index=[\"cste\",\"inf_diff\",\"lag1\",\"lag2\",\"lag3\",\"lag4\"],columns=[\"coeff\"])"
   ]
  },
  {
   "cell_type": "code",
   "execution_count": 95,
   "metadata": {},
   "outputs": [
    {
     "data": {
      "text/html": [
       "<div>\n",
       "<style>\n",
       "    .dataframe thead tr:only-child th {\n",
       "        text-align: right;\n",
       "    }\n",
       "\n",
       "    .dataframe thead th {\n",
       "        text-align: left;\n",
       "    }\n",
       "\n",
       "    .dataframe tbody tr th {\n",
       "        vertical-align: top;\n",
       "    }\n",
       "</style>\n",
       "<table border=\"1\" class=\"dataframe\">\n",
       "  <thead>\n",
       "    <tr style=\"text-align: right;\">\n",
       "      <th></th>\n",
       "      <th>cste</th>\n",
       "      <th>inf_diff</th>\n",
       "      <th>lag1</th>\n",
       "      <th>lag2</th>\n",
       "      <th>lag3</th>\n",
       "      <th>lag4</th>\n",
       "    </tr>\n",
       "  </thead>\n",
       "  <tbody>\n",
       "    <tr>\n",
       "      <th>0</th>\n",
       "      <td>1.0</td>\n",
       "      <td>0.435792</td>\n",
       "      <td>-0.234990</td>\n",
       "      <td>-0.440631</td>\n",
       "      <td>0.574473</td>\n",
       "      <td>-0.510595</td>\n",
       "    </tr>\n",
       "    <tr>\n",
       "      <th>1</th>\n",
       "      <td>1.0</td>\n",
       "      <td>-0.268724</td>\n",
       "      <td>0.435792</td>\n",
       "      <td>-0.234990</td>\n",
       "      <td>-0.440631</td>\n",
       "      <td>0.574473</td>\n",
       "    </tr>\n",
       "    <tr>\n",
       "      <th>2</th>\n",
       "      <td>1.0</td>\n",
       "      <td>0.266577</td>\n",
       "      <td>-0.268724</td>\n",
       "      <td>0.435792</td>\n",
       "      <td>-0.234990</td>\n",
       "      <td>-0.440631</td>\n",
       "    </tr>\n",
       "    <tr>\n",
       "      <th>3</th>\n",
       "      <td>1.0</td>\n",
       "      <td>-0.034806</td>\n",
       "      <td>0.266577</td>\n",
       "      <td>-0.268724</td>\n",
       "      <td>0.435792</td>\n",
       "      <td>-0.234990</td>\n",
       "    </tr>\n",
       "    <tr>\n",
       "      <th>4</th>\n",
       "      <td>1.0</td>\n",
       "      <td>-0.067511</td>\n",
       "      <td>-0.034806</td>\n",
       "      <td>0.266577</td>\n",
       "      <td>-0.268724</td>\n",
       "      <td>0.435792</td>\n",
       "    </tr>\n",
       "  </tbody>\n",
       "</table>\n",
       "</div>"
      ],
      "text/plain": [
       "   cste  inf_diff      lag1      lag2      lag3      lag4\n",
       "0   1.0  0.435792 -0.234990 -0.440631  0.574473 -0.510595\n",
       "1   1.0 -0.268724  0.435792 -0.234990 -0.440631  0.574473\n",
       "2   1.0  0.266577 -0.268724  0.435792 -0.234990 -0.440631\n",
       "3   1.0 -0.034806  0.266577 -0.268724  0.435792 -0.234990\n",
       "4   1.0 -0.067511 -0.034806  0.266577 -0.268724  0.435792"
      ]
     },
     "execution_count": 95,
     "metadata": {},
     "output_type": "execute_result"
    }
   ],
   "source": [
    "pd.DataFrame(X_inf_lag4,columns=[\"cste\",\"inf_diff\",\"lag1\",\"lag2\",\"lag3\",\"lag4\"]).head()"
   ]
  },
  {
   "cell_type": "code",
   "execution_count": 96,
   "metadata": {},
   "outputs": [
    {
     "data": {
      "text/plain": [
       "<matplotlib.legend.Legend at 0x1148298d0>"
      ]
     },
     "execution_count": 96,
     "metadata": {},
     "output_type": "execute_result"
    },
    {
     "data": {
      "image/png": "[encoded data removed]",
      "text/plain": [
       "<matplotlib.figure.Figure at 0x115267cf8>"
      ]
     },
     "metadata": {},
     "output_type": "display_data"
    }
   ],
   "source": [
    "fig,ax = plt.subplots(figsize=(8,8))\n",
    "ax.plot(y_unemp)\n",
    "ax.plot(beta_lag4[0]+np.dot(X_inf_lag4[:,1:],beta_lag4[1:]))\n",
    "ax.set_ylabel(\"Unemp\")\n",
    "ax.legend([\"y_unemp\",\"y_pred_lag4\"])"
   ]
  },
  {
   "cell_type": "markdown",
   "metadata": {},
   "source": [
    "Testons la non causalité de l'inflation sur le chômage ainsi posons H0 : beta_i =0, ou beta_i est le coefficent associé au lag_i de l'inflation <=> non causalité de l'inflation et de ses lags"
   ]
  },
  {
   "cell_type": "code",
   "execution_count": 97,
   "metadata": {},
   "outputs": [
    {
     "name": "stdout",
     "output_type": "stream",
     "text": [
      "All lags = 0, proba d'être au dessus de la F-stat calculée : 0.006764504228246593\n",
      "lags 2,3,4 = 0, proba d'être au dessus de la F-stat calculée : 0.008766364118298453\n",
      "lags 3,4 = 0, proba d'être au dessus de la F-stat calculée : 0.5185320625064371\n"
     ]
    }
   ],
   "source": [
    "#H0 : all lags coeff = 0\n",
    "beta_lag4_restricted = beta_lag4.copy()\n",
    "beta_lag4_restricted[2:] = 0\n",
    "F_stat,p_val = compute_Fisher(X_inf_lag4,y_unemp,beta_lag4,beta_lag4_restricted,4)\n",
    "print(\"All lags = 0, proba d'être au dessus de la F-stat calculée : {}\".format(p_val))\n",
    "\n",
    "beta_lag4_restricted = beta_lag4.copy()\n",
    "beta_lag4_restricted[3:] = 0\n",
    "F_stat,p_val = compute_Fisher(X_inf_lag4,y_unemp,beta_lag4,beta_lag4_restricted,3)\n",
    "print(\"lags 2,3,4 = 0, proba d'être au dessus de la F-stat calculée : {}\".format(p_val))\n",
    "\n",
    "beta_lag4_restricted = beta_lag4.copy()\n",
    "beta_lag4_restricted[4:] = 0\n",
    "F_stat,p_val = compute_Fisher(X_inf_lag4,y_unemp,beta_lag4,beta_lag4_restricted,2)\n",
    "print(\"lags 3,4 = 0, proba d'être au dessus de la F-stat calculée : {}\".format(p_val))"
   ]
  },
  {
   "cell_type": "markdown",
   "metadata": {},
   "source": [
    "Les lags 3 et 4 sont significatif dans l'explication de unemp\n",
    "\n",
    "Rejette H0 à 1% (test bilateral), Les lags sont significatifs dans l'explication du chomage"
   ]
  },
  {
   "cell_type": "markdown",
   "metadata": {},
   "source": [
    "#### 10) Représentez graphiquement les délais distribués et commentez. Calculer l’impact à long terme de l’inflation sur le chômage."
   ]
  },
  {
   "cell_type": "code",
   "execution_count": 98,
   "metadata": {},
   "outputs": [
    {
     "data": {
      "image/png": "[encoded data removed]",
      "text/plain": [
       "<matplotlib.figure.Figure at 0x11517f5f8>"
      ]
     },
     "metadata": {},
     "output_type": "display_data"
    }
   ],
   "source": [
    "plt.bar(range(6),beta_lag4)\n",
    "plt.xlabel(\"variables\")\n",
    "plt.ylabel(\"theta\")\n",
    "plt.xticks(range(6),[\"cste\",'inf','inf_lag1','inf_lag2','inf_lag3','inf_lag4','inf_lag5'])\n",
    "plt.show()"
   ]
  },
  {
   "cell_type": "markdown",
   "metadata": {},
   "source": [
    "On a une relation inverse entre inflation et chomage à court terme (jusqu'au lag 2 soit 6 mois) : une variation positive de l'inflation engendre une variation négative du chomage. \n",
    "\n",
    "En se basant sur les coefficients associés aux lags 3 et lags 4 on constate qu'à long terme l'inflation n'est pas significatif sur le chomage"
   ]
  },
  {
   "cell_type": "code",
   "execution_count": null,
   "metadata": {
    "collapsed": true
   },
   "outputs": [],
   "source": []
  }
 ],
 "metadata": {
  "kernelspec": {
   "display_name": "Python 3",
   "language": "python",
   "name": "python3"
  },
  "language_info": {
   "codemirror_mode": {
    "name": "ipython",
    "version": 3
   },
   "file_extension": ".py",
   "mimetype": "text/x-python",
   "name": "python",
   "nbconvert_exporter": "python",
   "pygments_lexer": "ipython3",
   "version": "3.6.1"
  },
  "latex_envs": {
   "LaTeX_envs_menu_present": true,
   "autoclose": false,
   "autocomplete": true,
   "bibliofile": "biblio.bib",
   "cite_by": "apalike",
   "current_citInitial": 1,
   "eqLabelWithNumbers": true,
   "eqNumInitial": 1,
   "hotkeys": {
    "equation": "Ctrl-E",
    "itemize": "Ctrl-I"
   },
   "labels_anchors": false,
   "latex_user_defs": false,
   "report_style_numbering": false,
   "user_envs_cfg": false
  }
 },
 "nbformat": 4,
 "nbformat_minor": 2
}
